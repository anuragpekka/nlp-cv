{
 "cells": [
  {
   "cell_type": "markdown",
   "metadata": {},
   "source": [
    "### Making a basic chatbot"
   ]
  },
  {
   "cell_type": "code",
   "execution_count": 1,
   "metadata": {},
   "outputs": [],
   "source": [
    "import nltk\n",
    "import random\n",
    "from nltk.stem import WordNetLemmatizer"
   ]
  },
  {
   "cell_type": "code",
   "execution_count": 2,
   "metadata": {},
   "outputs": [],
   "source": [
    "# define the chatbot responses as intents\n",
    "\n",
    "responses = {\n",
    "    'greeting': ['Hello!', 'Hi!', 'Hey!', 'Hola!'],\n",
    "    'goodbye': ['bye', 'see you later', 'goodbye'],\n",
    "    'thanks': ['thank you', 'thanks', 'thank you so much', 'Happy to assist!'],\n",
    "    'age': ['how old are you', 'what is your age'],\n",
    "    'location': ['where are you from', 'what is your location'],\n",
    "    'weather': ['what is the weather like', 'how is the weather today'],\n",
    "    'default': ['I don\\'t understand', 'I am not sure about that. Please repeat it again.']\n",
    "}"
   ]
  },
  {
   "cell_type": "code",
   "execution_count": null,
   "metadata": {},
   "outputs": [],
   "source": [
    "# simple set of questions and responses/patterns\n",
    "patterns = {\n",
    "    'hi': 'greeting',\n",
    "    'hello': 'greeting',\n",
    "    'hey': 'greeting',\n",
    "    'bye' : 'goodbye',\n",
    "    'thank you': 'thanks',\n",
    "    'age': 'age',\n",
    "    'location': 'location',\n",
    "    'weather': 'weather',\n",
    "    'thanks': 'thanks'\n",
    "}"
   ]
  }
 ],
 "metadata": {
  "kernelspec": {
   "display_name": "DLNov2024",
   "language": "python",
   "name": "python3"
  },
  "language_info": {
   "codemirror_mode": {
    "name": "ipython",
    "version": 3
   },
   "file_extension": ".py",
   "mimetype": "text/x-python",
   "name": "python",
   "nbconvert_exporter": "python",
   "pygments_lexer": "ipython3",
   "version": "3.12.4"
  }
 },
 "nbformat": 4,
 "nbformat_minor": 2
}
