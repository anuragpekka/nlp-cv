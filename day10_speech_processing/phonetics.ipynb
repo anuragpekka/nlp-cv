{
 "cells": [
  {
   "cell_type": "code",
   "execution_count": 1,
   "metadata": {},
   "outputs": [
    {
     "name": "stdout",
     "output_type": "stream",
     "text": [
      "Collecting pronouncing\n",
      "  Downloading pronouncing-0.2.0.tar.gz (17 kB)\n",
      "  Preparing metadata (setup.py): started\n",
      "  Preparing metadata (setup.py): finished with status 'done'\n",
      "Collecting cmudict>=0.4.0 (from pronouncing)\n",
      "  Downloading cmudict-1.0.31-py3-none-any.whl.metadata (3.5 kB)\n",
      "Collecting importlib-metadata>=5 (from cmudict>=0.4.0->pronouncing)\n",
      "  Downloading importlib_metadata-8.5.0-py3-none-any.whl.metadata (4.8 kB)\n",
      "Collecting importlib-resources>=5 (from cmudict>=0.4.0->pronouncing)\n",
      "  Downloading importlib_resources-6.4.5-py3-none-any.whl.metadata (4.0 kB)\n",
      "Collecting zipp>=3.20 (from importlib-metadata>=5->cmudict>=0.4.0->pronouncing)\n",
      "  Downloading zipp-3.21.0-py3-none-any.whl.metadata (3.7 kB)\n",
      "Downloading cmudict-1.0.31-py3-none-any.whl (939 kB)\n",
      "   ---------------------------------------- 0.0/939.4 kB ? eta -:--:--\n",
      "   --------------------------------------- 939.4/939.4 kB 21.2 MB/s eta 0:00:00\n",
      "Downloading importlib_metadata-8.5.0-py3-none-any.whl (26 kB)\n",
      "Downloading importlib_resources-6.4.5-py3-none-any.whl (36 kB)\n",
      "Downloading zipp-3.21.0-py3-none-any.whl (9.6 kB)\n",
      "Building wheels for collected packages: pronouncing\n",
      "  Building wheel for pronouncing (setup.py): started\n",
      "  Building wheel for pronouncing (setup.py): finished with status 'done'\n",
      "  Created wheel for pronouncing: filename=pronouncing-0.2.0-py2.py3-none-any.whl size=6258 sha256=ca8cb49b5700417602dd3c924d779d59e33f61ab341ecb2fd0c7b5474bf75078\n",
      "  Stored in directory: c:\\users\\dai\\appdata\\local\\pip\\cache\\wheels\\a0\\76\\15\\dfdf38731993cdc4e86fd6d949c70c0e9786cf00073d8114d4\n",
      "Successfully built pronouncing\n",
      "Installing collected packages: zipp, importlib-resources, importlib-metadata, cmudict, pronouncing\n",
      "Successfully installed cmudict-1.0.31 importlib-metadata-8.5.0 importlib-resources-6.4.5 pronouncing-0.2.0 zipp-3.21.0\n",
      "Note: you may need to restart the kernel to use updated packages.\n"
     ]
    }
   ],
   "source": [
    "pip install pronouncing"
   ]
  },
  {
   "cell_type": "code",
   "execution_count": 36,
   "metadata": {},
   "outputs": [
    {
     "name": "stdout",
     "output_type": "stream",
     "text": [
      "Phonetic transcription of convolution: ['K AA1 N V AH0 L UW2 SH AH0 N']\n"
     ]
    }
   ],
   "source": [
    "import pronouncing\n",
    "def get_phonetic_transcription(word):\n",
    "    # get a list of possible pronounciations for the word\n",
    "    pronunciations = pronouncing.phones_for_word(word)\n",
    "    if pronunciations:\n",
    "        # return the first pronounciation\n",
    "        return pronunciations\n",
    "    else:\n",
    "        return \"No phonetic transcription found\"\n",
    "\n",
    "# example usage\n",
    "word = \"convolution\"\n",
    "transcription = get_phonetic_transcription(word)\n",
    "print(f\"Phonetic transcription of {word}: {transcription}\")"
   ]
  },
  {
   "cell_type": "code",
   "execution_count": 37,
   "metadata": {},
   "outputs": [
    {
     "data": {
      "text/plain": [
       "['destitution']"
      ]
     },
     "execution_count": 37,
     "metadata": {},
     "output_type": "execute_result"
    }
   ],
   "source": [
    "pronouncing.rhymes(word)"
   ]
  },
  {
   "cell_type": "code",
   "execution_count": 38,
   "metadata": {},
   "outputs": [
    {
     "data": {
      "text/plain": [
       "1"
      ]
     },
     "execution_count": 38,
     "metadata": {},
     "output_type": "execute_result"
    }
   ],
   "source": [
    "len(pronouncing.rhymes(word))"
   ]
  },
  {
   "cell_type": "code",
   "execution_count": 39,
   "metadata": {},
   "outputs": [
    {
     "data": {
      "text/plain": [
       "'convolution'"
      ]
     },
     "execution_count": 39,
     "metadata": {},
     "output_type": "execute_result"
    }
   ],
   "source": [
    "pronouncing.rhyming_part(word)"
   ]
  },
  {
   "cell_type": "code",
   "execution_count": 40,
   "metadata": {},
   "outputs": [
    {
     "data": {
      "text/plain": [
       "135167"
      ]
     },
     "execution_count": 40,
     "metadata": {},
     "output_type": "execute_result"
    }
   ],
   "source": [
    "len(pronouncing.pronunciations) # total words whose pronounciations are mentioned in this module"
   ]
  },
  {
   "cell_type": "code",
   "execution_count": null,
   "metadata": {},
   "outputs": [],
   "source": []
  }
 ],
 "metadata": {
  "kernelspec": {
   "display_name": "DLNov2024",
   "language": "python",
   "name": "python3"
  },
  "language_info": {
   "codemirror_mode": {
    "name": "ipython",
    "version": 3
   },
   "file_extension": ".py",
   "mimetype": "text/x-python",
   "name": "python",
   "nbconvert_exporter": "python",
   "pygments_lexer": "ipython3",
   "version": "3.12.4"
  }
 },
 "nbformat": 4,
 "nbformat_minor": 2
}
