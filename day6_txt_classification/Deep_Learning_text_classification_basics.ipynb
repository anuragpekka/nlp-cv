{
  "nbformat": 4,
  "nbformat_minor": 0,
  "metadata": {
    "colab": {
      "provenance": [],
      "gpuType": "T4"
    },
    "kernelspec": {
      "name": "python3",
      "display_name": "Python 3"
    },
    "language_info": {
      "name": "python"
    },
    "accelerator": "GPU"
  },
  "cells": [
    {
      "cell_type": "markdown",
      "source": [
        "### Import the libraries"
      ],
      "metadata": {
        "id": "9x1UOjjyOr5l"
      }
    },
    {
      "cell_type": "code",
      "source": [
        "import tensorflow as tf\n",
        "from tensorflow.keras.preprocessing.text import Tokenizer\n",
        "from tensorflow.keras.preprocessing.sequence import pad_sequences"
      ],
      "metadata": {
        "id": "1PqdXWz3QYaV"
      },
      "execution_count": 17,
      "outputs": []
    },
    {
      "cell_type": "code",
      "source": [
        "lines = ['It was a nice rainy day.', 'The things are so beautiful in his point.', 'When your focus is clear, you won.', 'Many many happy returns of the day']"
      ],
      "metadata": {
        "id": "W5QXWmQhPIBV"
      },
      "execution_count": 18,
      "outputs": []
    },
    {
      "cell_type": "code",
      "source": [
        "tokenizer = Tokenizer() # tensorflow method for tokenizing\n",
        "tokenizer.fit_on_texts(lines)"
      ],
      "metadata": {
        "id": "kjAertU7PWTx"
      },
      "execution_count": 19,
      "outputs": []
    },
    {
      "cell_type": "code",
      "source": [
        "tokenizer.word_docs # checking out the words and their frequency count in the data"
      ],
      "metadata": {
        "colab": {
          "base_uri": "https://localhost:8080/"
        },
        "id": "hep3EvrrPa6F",
        "outputId": "f152df80-0389-4e33-fa6b-cee87c5c974c"
      },
      "execution_count": 20,
      "outputs": [
        {
          "output_type": "execute_result",
          "data": {
            "text/plain": [
              "defaultdict(int,\n",
              "            {'nice': 1,\n",
              "             'was': 1,\n",
              "             'rainy': 1,\n",
              "             'it': 1,\n",
              "             'day': 2,\n",
              "             'a': 1,\n",
              "             'in': 1,\n",
              "             'so': 1,\n",
              "             'his': 1,\n",
              "             'beautiful': 1,\n",
              "             'things': 1,\n",
              "             'the': 2,\n",
              "             'point': 1,\n",
              "             'are': 1,\n",
              "             'is': 1,\n",
              "             'won': 1,\n",
              "             'your': 1,\n",
              "             'you': 1,\n",
              "             'when': 1,\n",
              "             'clear': 1,\n",
              "             'focus': 1,\n",
              "             'returns': 1,\n",
              "             'of': 1,\n",
              "             'happy': 1,\n",
              "             'many': 1})"
            ]
          },
          "metadata": {},
          "execution_count": 20
        }
      ]
    },
    {
      "cell_type": "code",
      "source": [
        "tokenizer.index_word # every word is assigned an index"
      ],
      "metadata": {
        "colab": {
          "base_uri": "https://localhost:8080/"
        },
        "id": "MGB-MhnwPzfd",
        "outputId": "acfdfd80-09af-49f6-b7fd-c161b339deae"
      },
      "execution_count": 21,
      "outputs": [
        {
          "output_type": "execute_result",
          "data": {
            "text/plain": [
              "{1: 'day',\n",
              " 2: 'the',\n",
              " 3: 'many',\n",
              " 4: 'it',\n",
              " 5: 'was',\n",
              " 6: 'a',\n",
              " 7: 'nice',\n",
              " 8: 'rainy',\n",
              " 9: 'things',\n",
              " 10: 'are',\n",
              " 11: 'so',\n",
              " 12: 'beautiful',\n",
              " 13: 'in',\n",
              " 14: 'his',\n",
              " 15: 'point',\n",
              " 16: 'when',\n",
              " 17: 'your',\n",
              " 18: 'focus',\n",
              " 19: 'is',\n",
              " 20: 'clear',\n",
              " 21: 'you',\n",
              " 22: 'won',\n",
              " 23: 'happy',\n",
              " 24: 'returns',\n",
              " 25: 'of'}"
            ]
          },
          "metadata": {},
          "execution_count": 21
        }
      ]
    },
    {
      "cell_type": "code",
      "source": [
        "tokenizer.index_docs # combining the above two attibutes"
      ],
      "metadata": {
        "colab": {
          "base_uri": "https://localhost:8080/"
        },
        "id": "geVCdM0xP8tO",
        "outputId": "a0102143-d627-4443-ccb4-a584b5c24479"
      },
      "execution_count": 22,
      "outputs": [
        {
          "output_type": "execute_result",
          "data": {
            "text/plain": [
              "defaultdict(int,\n",
              "            {7: 1,\n",
              "             5: 1,\n",
              "             8: 1,\n",
              "             4: 1,\n",
              "             1: 2,\n",
              "             6: 1,\n",
              "             13: 1,\n",
              "             11: 1,\n",
              "             14: 1,\n",
              "             12: 1,\n",
              "             9: 1,\n",
              "             2: 2,\n",
              "             15: 1,\n",
              "             10: 1,\n",
              "             19: 1,\n",
              "             22: 1,\n",
              "             17: 1,\n",
              "             21: 1,\n",
              "             16: 1,\n",
              "             20: 1,\n",
              "             18: 1,\n",
              "             24: 1,\n",
              "             25: 1,\n",
              "             23: 1,\n",
              "             3: 1})"
            ]
          },
          "metadata": {},
          "execution_count": 22
        }
      ]
    },
    {
      "cell_type": "code",
      "source": [
        "tokenizer.word_index # generates dictionary with index, according to our convenience"
      ],
      "metadata": {
        "colab": {
          "base_uri": "https://localhost:8080/"
        },
        "id": "nFZt1nGPQNm3",
        "outputId": "ccc3d121-7d1e-48e5-c498-f20c489309b5"
      },
      "execution_count": 23,
      "outputs": [
        {
          "output_type": "execute_result",
          "data": {
            "text/plain": [
              "{'day': 1,\n",
              " 'the': 2,\n",
              " 'many': 3,\n",
              " 'it': 4,\n",
              " 'was': 5,\n",
              " 'a': 6,\n",
              " 'nice': 7,\n",
              " 'rainy': 8,\n",
              " 'things': 9,\n",
              " 'are': 10,\n",
              " 'so': 11,\n",
              " 'beautiful': 12,\n",
              " 'in': 13,\n",
              " 'his': 14,\n",
              " 'point': 15,\n",
              " 'when': 16,\n",
              " 'your': 17,\n",
              " 'focus': 18,\n",
              " 'is': 19,\n",
              " 'clear': 20,\n",
              " 'you': 21,\n",
              " 'won': 22,\n",
              " 'happy': 23,\n",
              " 'returns': 24,\n",
              " 'of': 25}"
            ]
          },
          "metadata": {},
          "execution_count": 23
        }
      ]
    },
    {
      "cell_type": "code",
      "source": [
        "mats = tokenizer.texts_to_matrix(lines) # similar to one hot encoding categorical data in the usual dataset\n",
        "mats"
      ],
      "metadata": {
        "colab": {
          "base_uri": "https://localhost:8080/"
        },
        "id": "umaR_aTQQqUb",
        "outputId": "774f82ce-e5ca-4108-c998-72b7623ecc18"
      },
      "execution_count": 28,
      "outputs": [
        {
          "output_type": "execute_result",
          "data": {
            "text/plain": [
              "array([[0., 1., 0., 0., 1., 1., 1., 1., 1., 0., 0., 0., 0., 0., 0., 0.,\n",
              "        0., 0., 0., 0., 0., 0., 0., 0., 0., 0.],\n",
              "       [0., 0., 1., 0., 0., 0., 0., 0., 0., 1., 1., 1., 1., 1., 1., 1.,\n",
              "        0., 0., 0., 0., 0., 0., 0., 0., 0., 0.],\n",
              "       [0., 0., 0., 0., 0., 0., 0., 0., 0., 0., 0., 0., 0., 0., 0., 0.,\n",
              "        1., 1., 1., 1., 1., 1., 1., 0., 0., 0.],\n",
              "       [0., 1., 1., 1., 0., 0., 0., 0., 0., 0., 0., 0., 0., 0., 0., 0.,\n",
              "        0., 0., 0., 0., 0., 0., 0., 1., 1., 1.]])"
            ]
          },
          "metadata": {},
          "execution_count": 28
        }
      ]
    },
    {
      "cell_type": "code",
      "source": [
        "mats.shape # 4 sentences, 26 unique words in the corpus"
      ],
      "metadata": {
        "colab": {
          "base_uri": "https://localhost:8080/"
        },
        "id": "kfW_0_RlQ8HE",
        "outputId": "ec1f5ef0-b9c8-4f64-f7be-aaea47fdeefb"
      },
      "execution_count": 29,
      "outputs": [
        {
          "output_type": "execute_result",
          "data": {
            "text/plain": [
              "(4, 26)"
            ]
          },
          "metadata": {},
          "execution_count": 29
        }
      ]
    },
    {
      "cell_type": "code",
      "source": [
        "# sequences\n",
        "seq = tokenizer.texts_to_sequences(lines)\n",
        "seq"
      ],
      "metadata": {
        "colab": {
          "base_uri": "https://localhost:8080/"
        },
        "id": "iPCAFJbNREsR",
        "outputId": "938d79df-742d-4d13-cee3-16a16112ba75"
      },
      "execution_count": 30,
      "outputs": [
        {
          "output_type": "execute_result",
          "data": {
            "text/plain": [
              "[[4, 5, 6, 7, 8, 1],\n",
              " [2, 9, 10, 11, 12, 13, 14, 15],\n",
              " [16, 17, 18, 19, 20, 21, 22],\n",
              " [3, 3, 23, 24, 25, 2, 1]]"
            ]
          },
          "metadata": {},
          "execution_count": 30
        }
      ]
    },
    {
      "cell_type": "code",
      "source": [
        "# pre padding: equals the length of the different sentence sequences by appending 0s at the start\n",
        "padded = pad_sequences(seq, maxlen=10, padding='pre')\n",
        "padded"
      ],
      "metadata": {
        "colab": {
          "base_uri": "https://localhost:8080/"
        },
        "id": "Z-5JHdJURzhB",
        "outputId": "5fb1db89-2d1c-41a5-e56d-7573b601c7f0"
      },
      "execution_count": 31,
      "outputs": [
        {
          "output_type": "execute_result",
          "data": {
            "text/plain": [
              "array([[ 0,  0,  0,  0,  4,  5,  6,  7,  8,  1],\n",
              "       [ 0,  0,  2,  9, 10, 11, 12, 13, 14, 15],\n",
              "       [ 0,  0,  0, 16, 17, 18, 19, 20, 21, 22],\n",
              "       [ 0,  0,  0,  3,  3, 23, 24, 25,  2,  1]], dtype=int32)"
            ]
          },
          "metadata": {},
          "execution_count": 31
        }
      ]
    },
    {
      "cell_type": "code",
      "source": [
        "# post padding: equals the length of the different sentence sequences by appending 0s at the end\n",
        "padded = pad_sequences(seq, maxlen=10, padding='post')\n",
        "padded"
      ],
      "metadata": {
        "colab": {
          "base_uri": "https://localhost:8080/"
        },
        "id": "HjnYYQ8pSlJz",
        "outputId": "a084398e-6d59-4f0c-b093-8319bbd5437f"
      },
      "execution_count": 32,
      "outputs": [
        {
          "output_type": "execute_result",
          "data": {
            "text/plain": [
              "array([[ 4,  5,  6,  7,  8,  1,  0,  0,  0,  0],\n",
              "       [ 2,  9, 10, 11, 12, 13, 14, 15,  0,  0],\n",
              "       [16, 17, 18, 19, 20, 21, 22,  0,  0,  0],\n",
              "       [ 3,  3, 23, 24, 25,  2,  1,  0,  0,  0]], dtype=int32)"
            ]
          },
          "metadata": {},
          "execution_count": 32
        }
      ]
    },
    {
      "cell_type": "markdown",
      "source": [
        "\n",
        "Both of the above padding processes above result in a Continuous Bag of Words"
      ],
      "metadata": {
        "id": "70pktwQtS24B"
      }
    },
    {
      "cell_type": "code",
      "source": [],
      "metadata": {
        "id": "p72gtFXlS1ji"
      },
      "execution_count": null,
      "outputs": []
    }
  ]
}