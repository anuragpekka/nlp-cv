{
 "cells": [
  {
   "cell_type": "code",
   "execution_count": 1,
   "metadata": {},
   "outputs": [],
   "source": [
    "import cv2\n",
    "import matplotlib.pyplot as plt\n",
    "import os\n",
    "import numpy as np"
   ]
  },
  {
   "cell_type": "code",
   "execution_count": 2,
   "metadata": {},
   "outputs": [],
   "source": [
    "## directories\n",
    "images = '../images'\n",
    "saved_images = '../saved_images'\n",
    "trans_images = '../trans_images'"
   ]
  },
  {
   "cell_type": "code",
   "execution_count": 3,
   "metadata": {},
   "outputs": [],
   "source": [
    "img = cv2.imread(os.path.join(images, 'sachin.jpg'))\n"
   ]
  },
  {
   "cell_type": "code",
   "execution_count": 12,
   "metadata": {},
   "outputs": [
    {
     "data": {
      "text/plain": [
       "array([[0.02040816, 0.02040816, 0.02040816, 0.02040816, 0.02040816,\n",
       "        0.02040816, 0.02040816],\n",
       "       [0.02040816, 0.02040816, 0.02040816, 0.02040816, 0.02040816,\n",
       "        0.02040816, 0.02040816],\n",
       "       [0.02040816, 0.02040816, 0.02040816, 0.02040816, 0.02040816,\n",
       "        0.02040816, 0.02040816],\n",
       "       [0.02040816, 0.02040816, 0.02040816, 0.02040816, 0.02040816,\n",
       "        0.02040816, 0.02040816],\n",
       "       [0.02040816, 0.02040816, 0.02040816, 0.02040816, 0.02040816,\n",
       "        0.02040816, 0.02040816],\n",
       "       [0.02040816, 0.02040816, 0.02040816, 0.02040816, 0.02040816,\n",
       "        0.02040816, 0.02040816],\n",
       "       [0.02040816, 0.02040816, 0.02040816, 0.02040816, 0.02040816,\n",
       "        0.02040816, 0.02040816]], dtype=float32)"
      ]
     },
     "execution_count": 12,
     "metadata": {},
     "output_type": "execute_result"
    }
   ],
   "source": [
    "## defining the averaging kernel of 5x5 size\n",
    "kernel = np.ones([7,7], dtype=np.float32) * 1/49\n",
    "kernel"
   ]
  },
  {
   "cell_type": "code",
   "execution_count": 13,
   "metadata": {},
   "outputs": [
    {
     "name": "stdout",
     "output_type": "stream",
     "text": [
      "Help on built-in function filter2D:\n",
      "\n",
      "filter2D(...)\n",
      "    filter2D(src, ddepth, kernel[, dst[, anchor[, delta[, borderType]]]]) -> dst\n",
      "    .   @brief Convolves an image with the kernel.\n",
      "    .\n",
      "    .   The function applies an arbitrary linear filter to an image. In-place operation is supported. When\n",
      "    .   the aperture is partially outside the image, the function interpolates outlier pixel values\n",
      "    .   according to the specified border mode.\n",
      "    .\n",
      "    .   The function does actually compute correlation, not the convolution:\n",
      "    .\n",
      "    .   \\f[\\texttt{dst} (x,y) =  \\sum _{ \\substack{0\\leq x' < \\texttt{kernel.cols}\\\\{0\\leq y' < \\texttt{kernel.rows}}}}  \\texttt{kernel} (x',y')* \\texttt{src} (x+x'- \\texttt{anchor.x} ,y+y'- \\texttt{anchor.y} )\\f]\n",
      "    .\n",
      "    .   That is, the kernel is not mirrored around the anchor point. If you need a real convolution, flip\n",
      "    .   the kernel using #flip and set the new anchor to `(kernel.cols - anchor.x - 1, kernel.rows -\n",
      "    .   anchor.y - 1)`.\n",
      "    .\n",
      "    .   The function uses the DFT-based algorithm in case of sufficiently large kernels (~`11 x 11` or\n",
      "    .   larger) and the direct algorithm for small kernels.\n",
      "    .\n",
      "    .   @param src input image.\n",
      "    .   @param dst output image of the same size and the same number of channels as src.\n",
      "    .   @param ddepth desired depth of the destination image, see @ref filter_depths \"combinations\"\n",
      "    .   @param kernel convolution kernel (or rather a correlation kernel), a single-channel floating point\n",
      "    .   matrix; if you want to apply different kernels to different channels, split the image into\n",
      "    .   separate color planes using split and process them individually.\n",
      "    .   @param anchor anchor of the kernel that indicates the relative position of a filtered point within\n",
      "    .   the kernel; the anchor should lie within the kernel; default value (-1,-1) means that the anchor\n",
      "    .   is at the kernel center.\n",
      "    .   @param delta optional value added to the filtered pixels before storing them in dst.\n",
      "    .   @param borderType pixel extrapolation method, see #BorderTypes. #BORDER_WRAP is not supported.\n",
      "    .   @sa  sepFilter2D, dft, matchTemplate\n",
      "\n"
     ]
    }
   ],
   "source": [
    "help(cv2.filter2D)"
   ]
  },
  {
   "cell_type": "code",
   "execution_count": 14,
   "metadata": {},
   "outputs": [],
   "source": [
    "smoothened_image = cv2.filter2D(img, -1, kernel)"
   ]
  },
  {
   "cell_type": "code",
   "execution_count": 15,
   "metadata": {},
   "outputs": [],
   "source": [
    "# cv2.imshow(\"Original Image\", img)\n",
    "cv2.imshow(\"Blurred Image\",smoothened_image)\n",
    "cv2.waitKey(0)\n",
    "cv2.destroyAllWindows()"
   ]
  },
  {
   "cell_type": "markdown",
   "metadata": {},
   "source": [
    "#### crucial observations: Increasing the kernel size will result in a higher blurring transformation of the image"
   ]
  },
  {
   "cell_type": "code",
   "execution_count": null,
   "metadata": {},
   "outputs": [],
   "source": []
  }
 ],
 "metadata": {
  "kernelspec": {
   "display_name": "DLNov2024",
   "language": "python",
   "name": "python3"
  },
  "language_info": {
   "codemirror_mode": {
    "name": "ipython",
    "version": 3
   },
   "file_extension": ".py",
   "mimetype": "text/x-python",
   "name": "python",
   "nbconvert_exporter": "python",
   "pygments_lexer": "ipython3",
   "version": "3.12.4"
  }
 },
 "nbformat": 4,
 "nbformat_minor": 2
}
