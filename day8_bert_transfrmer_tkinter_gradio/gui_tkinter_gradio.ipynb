{
 "cells": [
  {
   "cell_type": "code",
   "execution_count": 1,
   "metadata": {},
   "outputs": [
    {
     "name": "stderr",
     "output_type": "stream",
     "text": [
      "c:\\Users\\dai\\DLNov2024\\Lib\\site-packages\\tqdm\\auto.py:21: TqdmWarning: IProgress not found. Please update jupyter and ipywidgets. See https://ipywidgets.readthedocs.io/en/stable/user_install.html\n",
      "  from .autonotebook import tqdm as notebook_tqdm\n"
     ]
    },
    {
     "name": "stdout",
     "output_type": "stream",
     "text": [
      "* Running on local URL:  http://127.0.0.1:7860\n",
      "\n",
      "To create a public link, set `share=True` in `launch()`.\n"
     ]
    },
    {
     "data": {
      "text/html": [
       "<div><iframe src=\"http://127.0.0.1:7860/\" width=\"100%\" height=\"500\" allow=\"autoplay; camera; microphone; clipboard-read; clipboard-write;\" frameborder=\"0\" allowfullscreen></iframe></div>"
      ],
      "text/plain": [
       "<IPython.core.display.HTML object>"
      ]
     },
     "metadata": {},
     "output_type": "display_data"
    },
    {
     "data": {
      "text/plain": []
     },
     "execution_count": 1,
     "metadata": {},
     "output_type": "execute_result"
    }
   ],
   "source": [
    "import gradio as gr\n",
    "\n",
    "def square(number):\n",
    "    return number**2\n",
    "\n",
    "demo = gr.Interface(fn=square, inputs=\"number\", outputs=\"number\", title='Basic web UI')\n",
    "demo.launch()   "
   ]
  },
  {
   "cell_type": "code",
   "execution_count": 1,
   "metadata": {},
   "outputs": [],
   "source": [
    "from tkinter import * \n"
   ]
  },
  {
   "cell_type": "code",
   "execution_count": 3,
   "metadata": {},
   "outputs": [],
   "source": [
    "top = Tk() # everything you want to display should be between these two commands\n",
    "top.mainloop()"
   ]
  },
  {
   "cell_type": "code",
   "execution_count": 4,
   "metadata": {},
   "outputs": [],
   "source": [
    "top = Tk()\n",
    "top.title('My GUI')\n",
    "top.geometry('500x500')\n",
    "top.mainloop()"
   ]
  },
  {
   "cell_type": "code",
   "execution_count": 5,
   "metadata": {},
   "outputs": [],
   "source": [
    "top = Tk()\n",
    "top.title('My application')\n",
    "top.geometry('500x400')\n",
    " \n",
    "l = Label(top, text='Enter a number')\n",
    "e = Entry(top)\n",
    "b = Button(top, text='Click Here')\n",
    "\n",
    "l.pack()\n",
    "e.pack()\n",
    "b.pack()\n",
    "\n",
    "top.mainloop()"
   ]
  },
  {
   "cell_type": "code",
   "execution_count": 45,
   "metadata": {},
   "outputs": [
    {
     "ename": "SyntaxError",
     "evalue": "'function call' is an illegal expression for augmented assignment (2408884545.py, line 14)",
     "output_type": "error",
     "traceback": [
      "\u001b[1;36m  Cell \u001b[1;32mIn[45], line 14\u001b[1;36m\u001b[0m\n\u001b[1;33m    initial_num.get() += num.get()\u001b[0m\n\u001b[1;37m    ^\u001b[0m\n\u001b[1;31mSyntaxError\u001b[0m\u001b[1;31m:\u001b[0m 'function call' is an illegal expression for augmented assignment\n"
     ]
    }
   ],
   "source": [
    "# alternate way to do the above stuff\n",
    "top = Tk()\n",
    "top.title('My application')\n",
    "top.geometry('500x400')\n",
    "\n",
    "num = IntVar()\n",
    "initial_num = IntVar()\n",
    "initial_num.get() == 0\n",
    "def add():\n",
    "    # square = num.get()**2\n",
    "    # result = Label(top, text=f'')  # Label for result display\n",
    "    # result.config(text=f'Square is: {square}') # config for result display\n",
    "    # result.place(x=190, y=110)\n",
    "    initial_num.get() += num.get()\n",
    "    result = Label(top, text=f'')  # Label for result display\n",
    "    result.config(text=f'{initial_num.get()}') # config for result display\n",
    "    result.place(x=190, y=110)\n",
    "\n",
    "def subtract():\n",
    "    initial_num.get() -= num.get()\n",
    "    result = Label(top, text=f'')  # Label for result display\n",
    "    result.config(text=f'{initial_num.get()}') # config for result display\n",
    "    result.place(x=190, y=110)\n",
    "\n",
    "def multiply():\n",
    "    initial_num.get() *= num.get()\n",
    "    result = Label(top, text=f'')  # Label for result display\n",
    "    result.config(text=f'{initial_num.get()}') # config for result display\n",
    "    result.place(x=190, y=110)\n",
    "\n",
    "def divide():\n",
    "    initial_num.get() /= num.get()\n",
    "    result = Label(top, text=f'')  # Label for result display\n",
    "    result.config(text=f'{initial_num.get()}') # config for result display\n",
    "    result.place(x=190, y=110)\n",
    "\n",
    "\n",
    "Label(top, text='Enter a number').place(x=200, y=50)\n",
    "Entry(top, textvariable = num).place(x=180, y=70)\n",
    "Button(top, text='+', command=add).place(x=210, y=90)\n",
    "Button(top, text='-', command=subtract).place(x=230, y=90)\n",
    "Button(top, text='*', command=multiply).place(x=250, y=90)\n",
    "Button(top, text='/', command=divide).place(x=270, y=90)\n",
    "\n",
    "\n",
    "# geometry managers: pack(), place(), grid()\n",
    "\n",
    "\n",
    "top.mainloop()"
   ]
  },
  {
   "cell_type": "markdown",
   "metadata": {},
   "source": [
    "## refactored code"
   ]
  },
  {
   "cell_type": "code",
   "execution_count": 2,
   "metadata": {},
   "outputs": [],
   "source": [
    "# Initialize main window\n",
    "top = Tk()\n",
    "top.title('My Application')\n",
    "top.geometry('500x400')\n",
    "\n",
    "# Variables\n",
    "num = IntVar()           # Input number\n",
    "initial_num = IntVar()   # Running total\n",
    "initial_num.set(0)       # Set initial value to 0\n",
    "\n",
    "# Function to perform arithmetic operations\n",
    "def calculate(operation):\n",
    "    global result\n",
    "    current = initial_num.get()\n",
    "    value = num.get()\n",
    "    \n",
    "    if operation == '+':\n",
    "        current += value\n",
    "    elif operation == '-':\n",
    "        current -= value\n",
    "    elif operation == '*':\n",
    "        current *= value\n",
    "    elif operation == '/':\n",
    "        if value != 0:\n",
    "            current //= value  # Use integer division for simplicity\n",
    "        else:\n",
    "            current = 'Error: Div by 0'\n",
    "    \n",
    "    # Update the total and result display\n",
    "    initial_num.set(current)\n",
    "    result.config(text=f'Result: {current}')\n",
    "\n",
    "# UI Components\n",
    "Label(top, text='Enter a number:').place(x=200, y=50)\n",
    "Entry(top, textvariable=num).place(x=180, y=70)\n",
    "\n",
    "Button(top, text='+', command=lambda: calculate('+')).place(x=200, y=100)\n",
    "Button(top, text='-', command=lambda: calculate('-')).place(x=230, y=100)\n",
    "Button(top, text='*', command=lambda: calculate('*')).place(x=260, y=100)\n",
    "Button(top, text='/', command=lambda: calculate('/')).place(x=290, y=100)\n",
    "\n",
    "# Result Label\n",
    "result = Label(top, text='Result: 0', font=(\"Arial\", 12))\n",
    "result.place(x=190, y=140)\n",
    "\n",
    "# Start the application\n",
    "top.mainloop()\n"
   ]
  },
  {
   "cell_type": "markdown",
   "metadata": {},
   "source": [
    "## ML model (SVM) deployment using tkinter"
   ]
  },
  {
   "cell_type": "code",
   "execution_count": 17,
   "metadata": {},
   "outputs": [],
   "source": [
    "## GUI for day5.text_classification_svm program\n",
    "top = Tk()\n",
    "top.title('Spam email classifier')\n",
    "top.geometry('800x600')\n",
    "import joblib\n",
    "from nltk import word_tokenize\n",
    "\n",
    "# add any and all functions required to preprocess the data too\n",
    "def data_cleaning(sent, lang='english', stemmer='porter'): # porter, lancaster, snowball\n",
    "    from nltk.corpus import stopwords\n",
    "    from nltk.stem import SnowballStemmer, PorterStemmer, LancasterStemmer\n",
    "    ps = PorterStemmer()\n",
    "    ls = LancasterStemmer()\n",
    "    ss = SnowballStemmer(language=lang)\n",
    "    swords = stopwords.words(lang)\n",
    "    if stemmer == 'porter':\n",
    "        stem_obj = ps\n",
    "    elif stemmer == 'lancaster':\n",
    "        stem_obj = ls\n",
    "    elif stemmer == 'snowball':\n",
    "        stem_obj = ss\n",
    "    tokens = [stem_obj.stem(word) for word in word_tokenize(sent) if word.lower() not in swords and word.isalpha()]    # ignoring numerical values\n",
    "    return tokens\n",
    "\n",
    "def predict():\n",
    "    tfidf = joblib.load('tfidf.model') # loading the classifier and the transform from the svm program from day 5\n",
    "    classifier = joblib.load('classfier.model')\n",
    "    message = str(t.get(\"1.0\", END)) # text is fetched from the t = Text(), and the string is fetched from the start to the end of the string \n",
    "    result = classifier.predict(tfidf.transform(message.split('\\n')))\n",
    "    \n",
    "    l.config(text=\"Message is: \"+ str(','.join(result[:-1])))\n",
    "    l.place(x=350, y=550)\n",
    "\n",
    "# GUI Structure\n",
    "Label(top, text='Enter your message here: ').place(x=50, y=30)\n",
    "t = Text(top)\n",
    "t.place(x=50, y=70)\n",
    "Button(top, text='Predict Outcomes: ', command=predict).place(x=350, y=500)\n",
    "l = Label(top, text='Message is: ')\n",
    "\n",
    "\n",
    "\n",
    "top.mainloop()"
   ]
  },
  {
   "cell_type": "code",
   "execution_count": null,
   "metadata": {},
   "outputs": [],
   "source": []
  }
 ],
 "metadata": {
  "kernelspec": {
   "display_name": "DLNov2024",
   "language": "python",
   "name": "python3"
  },
  "language_info": {
   "codemirror_mode": {
    "name": "ipython",
    "version": 3
   },
   "file_extension": ".py",
   "mimetype": "text/x-python",
   "name": "python",
   "nbconvert_exporter": "python",
   "pygments_lexer": "ipython3",
   "version": "3.12.4"
  }
 },
 "nbformat": 4,
 "nbformat_minor": 2
}
