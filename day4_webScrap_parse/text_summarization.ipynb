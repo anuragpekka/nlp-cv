{
 "cells": [
  {
   "cell_type": "markdown",
   "metadata": {
    "id": "8nqLshl3jRo9"
   },
   "source": [
    "#### installing the necessary libraries"
   ]
  },
  {
   "cell_type": "code",
   "execution_count": 1,
   "metadata": {
    "colab": {
     "base_uri": "https://localhost:8080/"
    },
    "id": "zlGEK6AujRo-",
    "outputId": "e3ff41c8-fba9-4e4b-c97f-594c74897fac"
   },
   "outputs": [
    {
     "name": "stdout",
     "output_type": "stream",
     "text": [
      "Collecting sumy\n",
      "  Downloading sumy-0.11.0-py2.py3-none-any.whl.metadata (7.5 kB)\n",
      "Requirement already satisfied: gensim in /usr/local/lib/python3.10/dist-packages (4.3.3)\n",
      "Collecting docopt<0.7,>=0.6.1 (from sumy)\n",
      "  Downloading docopt-0.6.2.tar.gz (25 kB)\n",
      "  Preparing metadata (setup.py) ... \u001b[?25l\u001b[?25hdone\n",
      "Collecting breadability>=0.1.20 (from sumy)\n",
      "  Downloading breadability-0.1.20.tar.gz (32 kB)\n",
      "  Preparing metadata (setup.py) ... \u001b[?25l\u001b[?25hdone\n",
      "Requirement already satisfied: requests>=2.7.0 in /usr/local/lib/python3.10/dist-packages (from sumy) (2.32.3)\n",
      "Collecting pycountry>=18.2.23 (from sumy)\n",
      "  Downloading pycountry-24.6.1-py3-none-any.whl.metadata (12 kB)\n",
      "Requirement already satisfied: nltk>=3.0.2 in /usr/local/lib/python3.10/dist-packages (from sumy) (3.9.1)\n",
      "Requirement already satisfied: numpy<2.0,>=1.18.5 in /usr/local/lib/python3.10/dist-packages (from gensim) (1.26.4)\n",
      "Requirement already satisfied: scipy<1.14.0,>=1.7.0 in /usr/local/lib/python3.10/dist-packages (from gensim) (1.13.1)\n",
      "Requirement already satisfied: smart-open>=1.8.1 in /usr/local/lib/python3.10/dist-packages (from gensim) (7.0.5)\n",
      "Requirement already satisfied: chardet in /usr/local/lib/python3.10/dist-packages (from breadability>=0.1.20->sumy) (5.2.0)\n",
      "Requirement already satisfied: lxml>=2.0 in /usr/local/lib/python3.10/dist-packages (from breadability>=0.1.20->sumy) (5.3.0)\n",
      "Requirement already satisfied: click in /usr/local/lib/python3.10/dist-packages (from nltk>=3.0.2->sumy) (8.1.7)\n",
      "Requirement already satisfied: joblib in /usr/local/lib/python3.10/dist-packages (from nltk>=3.0.2->sumy) (1.4.2)\n",
      "Requirement already satisfied: regex>=2021.8.3 in /usr/local/lib/python3.10/dist-packages (from nltk>=3.0.2->sumy) (2024.9.11)\n",
      "Requirement already satisfied: tqdm in /usr/local/lib/python3.10/dist-packages (from nltk>=3.0.2->sumy) (4.66.6)\n",
      "Requirement already satisfied: charset-normalizer<4,>=2 in /usr/local/lib/python3.10/dist-packages (from requests>=2.7.0->sumy) (3.4.0)\n",
      "Requirement already satisfied: idna<4,>=2.5 in /usr/local/lib/python3.10/dist-packages (from requests>=2.7.0->sumy) (3.10)\n",
      "Requirement already satisfied: urllib3<3,>=1.21.1 in /usr/local/lib/python3.10/dist-packages (from requests>=2.7.0->sumy) (2.2.3)\n",
      "Requirement already satisfied: certifi>=2017.4.17 in /usr/local/lib/python3.10/dist-packages (from requests>=2.7.0->sumy) (2024.8.30)\n",
      "Requirement already satisfied: wrapt in /usr/local/lib/python3.10/dist-packages (from smart-open>=1.8.1->gensim) (1.17.0)\n",
      "Downloading sumy-0.11.0-py2.py3-none-any.whl (97 kB)\n",
      "\u001b[2K   \u001b[90m━━━━━━━━━━━━━━━━━━━━━━━━━━━━━━━━━━━━━━━━\u001b[0m \u001b[32m97.3/97.3 kB\u001b[0m \u001b[31m6.5 MB/s\u001b[0m eta \u001b[36m0:00:00\u001b[0m\n",
      "\u001b[?25hDownloading pycountry-24.6.1-py3-none-any.whl (6.3 MB)\n",
      "\u001b[2K   \u001b[90m━━━━━━━━━━━━━━━━━━━━━━━━━━━━━━━━━━━━━━━━\u001b[0m \u001b[32m6.3/6.3 MB\u001b[0m \u001b[31m65.6 MB/s\u001b[0m eta \u001b[36m0:00:00\u001b[0m\n",
      "\u001b[?25hBuilding wheels for collected packages: breadability, docopt\n",
      "  Building wheel for breadability (setup.py) ... \u001b[?25l\u001b[?25hdone\n",
      "  Created wheel for breadability: filename=breadability-0.1.20-py2.py3-none-any.whl size=21692 sha256=5adaf5eef718a23b8b63fdf80586c6ef3610c79678ec482e0537a129a152139d\n",
      "  Stored in directory: /root/.cache/pip/wheels/64/22/90/b84fcc30e16598db20a0d41340616dbf9b1e82bbcc627b0b33\n",
      "  Building wheel for docopt (setup.py) ... \u001b[?25l\u001b[?25hdone\n",
      "  Created wheel for docopt: filename=docopt-0.6.2-py2.py3-none-any.whl size=13706 sha256=030e454afa7f2c100adb6d17b06fcfff6ecaccd9986361c158c5ef32a610345f\n",
      "  Stored in directory: /root/.cache/pip/wheels/fc/ab/d4/5da2067ac95b36618c629a5f93f809425700506f72c9732fac\n",
      "Successfully built breadability docopt\n",
      "Installing collected packages: docopt, pycountry, breadability, sumy\n",
      "Successfully installed breadability-0.1.20 docopt-0.6.2 pycountry-24.6.1 sumy-0.11.0\n"
     ]
    }
   ],
   "source": [
    "pip install sumy gensim"
   ]
  },
  {
   "cell_type": "code",
   "execution_count": 2,
   "metadata": {
    "id": "qWVMaTDTjRpA"
   },
   "outputs": [],
   "source": [
    "# tiger data\n",
    "tiger_data = '''The tiger has a typical felid morphology, with a muscular body, shortened legs, strong forelimbs with wide front paws, a large head and a tail that is about half the length of the rest of its body.[47][48] It has five digits, including a dewclaw, on the front feet and four on the back, all of which have retractile claws that are compact and curved, and can reach 10 cm (3.9 in) long.[47][49] The ears are rounded and the eyes have a round pupil.[47] The snout ends in a triangular, pink tip with small black dots, the number of which increase with age.[50] The tiger's skull is robust, with a constricted front region, proportionally small, elliptical orbits, long nasal bones and a lengthened cranium with a large sagittal crest.[51][47] It resembles a lion's skull, but differs from it in the concave or flattened underside of the lower jaw and in its longer nasals.[51][43] The tiger has 30 fairly robust teeth and its somewhat curved canines are the longest in the cat family at 6.4–7.6 cm (2.5–3.0 in).[47][52]\n",
    "\n",
    "The tiger has a head-body length of 1.4–2.8 m (4 ft 7 in – 9 ft 2 in) with a 0.6–1.1 m (2 ft 0 in – 3 ft 7 in) tail and stands 0.8–1.1 m (2 ft 7 in – 3 ft 7 in) at the shoulder.[53] The Siberian and Bengal tigers are the largest.[47] Male Bengal tigers weigh 200–260 kg (440–570 lb), and females weigh 100–160 kg (220–350 lb); island tigers are the smallest, likely due to insular dwarfism.[11] Male Sumatran tigers weigh 100–140 kg (220–310 lb), and females weigh 75–110 kg (165–243 lb).[54] The tiger is popularly thought to be the largest living felid species; but since tigers of the different subspecies and populations vary greatly in size and weight, the tiger's average size may be less than the lion's, while the largest tigers are bigger than their lion counterparts. The tiger's coat usually has short hairs, reaching up to 35 mm (1.4 in), though the hairs of the northern-living Siberian tiger can reach 105 mm (4.1 in). Belly hairs tend to be longer than back hairs. The density of their fur is usually thin, though the Siberian tiger develops a particularly thick winter coat. The tiger has lines of fur around the face and long whiskers, especially in males.[47] It has an orange colouration that varies from yellowish to reddish.[55] White fur covers the underside, from head to tail, along with the inner surface of the legs and parts of the face.[47][56] On the back of the ears, it has a prominent white spot, which is surrounded by black.[47] The tiger is marked with distinctive black or dark brown stripes, which are uniquely patterned in each individual.[47][57] The stripes are mostly vertical, but those on the limbs and forehead are horizontal. They are more concentrated towards the backside and those on the trunk may reach under the belly. The tips of stripes are generally sharp and some may split up or split and fuse again. Tail stripes are thick bands and a black tip marks the end.[56]\n",
    "\n",
    "The tiger is one of only a few striped cat species.[58] Stripes are advantageous for camouflage in vegetation with vertical patterns of light and shade, such as trees, reeds and tall grass.[57][59] This is supported by a Fourier analysis study showing that the striping patterns line up with their environment.[60] The orange colour may also aid in concealment, as the tiger's prey is colour blind and possibly perceives the tiger as green and blended in with the vegetation. The three colour variants of Bengal tigers – nearly stripeless snow-white, white and golden – are now virtually non-existent in the wild due to the reduction of wild tiger populations but continue in captive populations. The white tiger has a white background colour with sepia-brown stripes. The golden tiger is pale golden with reddish-brown stripes. The snow-white tiger is a morph with extremely faint stripes and a pale sepia-brown ringed tail. White and golden morphs are the result of an autosomal recessive trait with a white locus and a wideband locus, respectively. The snow-white variation is caused by polygenes with both white and wideband loci.[62] The breeding of white tigers is controversial, as they have no use for conservation. Only 0.001% of wild tigers have the genes for this colour morph and the overrepresentation of white tigers in captivity is the result of inbreeding. Hence, their continued breeding will risk both inbreeding depression and loss of genetic variability in captive tigers.[63]\n",
    "\n",
    "Pseudo-melanistic tigers with thick, merged stripes have been recorded in Simlipal National Park and three Indian zoos; a population genetic analysis of Indian tiger samples revealed that this phenotype is caused by a mutation of a transmembrane aminopeptidase gene. Around 37% of the Simlipal tiger population has this feature, which has been linked to genetic isolation.'''"
   ]
  },
  {
   "cell_type": "code",
   "execution_count": 7,
   "metadata": {
    "colab": {
     "base_uri": "https://localhost:8080/",
     "height": 140
    },
    "id": "Xeb25lbXjRpB",
    "outputId": "48362505-d498-4d9c-ce7a-d6f612506b14"
   },
   "outputs": [
    {
     "name": "stderr",
     "output_type": "stream",
     "text": [
      "[nltk_data] Downloading package punkt_tab to /root/nltk_data...\n",
      "[nltk_data]   Unzipping tokenizers/punkt_tab.zip.\n"
     ]
    },
    {
     "data": {
      "application/vnd.google.colaboratory.intrinsic+json": {
       "type": "string"
      },
      "text/plain": [
       "\"The tiger has a typical felid morphology, with a muscular body, shortened legs, strong forelimbs with wide front paws, a large head and a tail that is about half the length of the rest of its body. It has five digits, including a dewclaw, on the front feet and four on the back, all of which have retractile claws that are compact and curved, and can reach 10 cm (3.9 in) long. The ears are rounded and the eyes have a round pupil. The snout ends in a triangular, pink tip with small black dots, the number of which increase with age. The tiger's skull is robust, with a constricted front region, proportionally small, elliptical orbits, long nasal bones and a lengthened cranium with a large sagittal crest. It resembles a lion's skull, but differs from it in the concave or flattened underside of the lower jaw and in its longer nasals. The tiger has 30 fairly robust teeth and its somewhat curved canines are the longest in the cat family at 6.4–7.6 cm (2.5–3.0 in).\\n\\nThe tiger has a head-body length of 1.4–2.8 m (4 ft 7 in – 9 ft 2 in) with a 0.6–1.1 m (2 ft 0 in – 3 ft 7 in) tail and stands 0.8–1.1 m (2 ft 7 in – 3 ft 7 in) at the shoulder. The Siberian and Bengal tigers are the largest. Male Bengal tigers weigh 200–260 kg (440–570 lb), and females weigh 100–160 kg (220–350 lb); island tigers are the smallest, likely due to insular dwarfism. Male Sumatran tigers weigh 100–140 kg (220–310 lb), and females weigh 75–110 kg (165–243 lb). The tiger is popularly thought to be the largest living felid species; but since tigers of the different subspecies and populations vary greatly in size and weight, the tiger's average size may be less than the lion's, while the largest tigers are bigger than their lion counterparts. The tiger's coat usually has short hairs, reaching up to 35 mm (1.4 in), though the hairs of the northern-living Siberian tiger can reach 105 mm (4.1 in). Belly hairs tend to be longer than back hairs. The density of their fur is usually thin, though the Siberian tiger develops a particularly thick winter coat. The tiger has lines of fur around the face and long whiskers, especially in males. It has an orange colouration that varies from yellowish to reddish. White fur covers the underside, from head to tail, along with the inner surface of the legs and parts of the face. On the back of the ears, it has a prominent white spot, which is surrounded by black. The tiger is marked with distinctive black or dark brown stripes, which are uniquely patterned in each individual. The stripes are mostly vertical, but those on the limbs and forehead are horizontal. They are more concentrated towards the backside and those on the trunk may reach under the belly. The tips of stripes are generally sharp and some may split up or split and fuse again. Tail stripes are thick bands and a black tip marks the end.\\n\\nThe tiger is one of only a few striped cat species. Stripes are advantageous for camouflage in vegetation with vertical patterns of light and shade, such as trees, reeds and tall grass. This is supported by a Fourier analysis study showing that the striping patterns line up with their environment. The orange colour may also aid in concealment, as the tiger's prey is colour blind and possibly perceives the tiger as green and blended in with the vegetation. The three colour variants of Bengal tigers – nearly stripeless snow-white, white and golden – are now virtually non-existent in the wild due to the reduction of wild tiger populations but continue in captive populations. The white tiger has a white background colour with sepia-brown stripes. The golden tiger is pale golden with reddish-brown stripes. The snow-white tiger is a morph with extremely faint stripes and a pale sepia-brown ringed tail. White and golden morphs are the result of an autosomal recessive trait with a white locus and a wideband locus, respectively. The snow-white variation is caused by polygenes with both white and wideband loci. The breeding of white tigers is controversial, as they have no use for conservation. Only 0.001% of wild tigers have the genes for this colour morph and the overrepresentation of white tigers in captivity is the result of inbreeding. Hence, their continued breeding will risk both inbreeding depression and loss of genetic variability in captive tigers.\\n\\nPseudo-melanistic tigers with thick, merged stripes have been recorded in Simlipal National Park and three Indian zoos; a population genetic analysis of Indian tiger samples revealed that this phenotype is caused by a mutation of a transmembrane aminopeptidase gene. Around 37% of the Simlipal tiger population has this feature, which has been linked to genetic isolation.\""
      ]
     },
     "execution_count": 7,
     "metadata": {},
     "output_type": "execute_result"
    }
   ],
   "source": [
    "# removing the [a-z][0-9]\n",
    "import re\n",
    "import nltk\n",
    "nltk.download('punkt_tab')\n",
    "from nltk.tokenize import word_tokenize\n",
    "regex = r'\\[[a-z0-9]+\\]'\n",
    "cleaned_data = re.sub(regex, '', tiger_data)\n",
    "cleaned_data"
   ]
  },
  {
   "cell_type": "code",
   "execution_count": 8,
   "metadata": {
    "id": "9pgIDoTdjRpC"
   },
   "outputs": [],
   "source": [
    "# TextRank Algorithm for extractive summarization\n",
    "from sumy.summarizers.text_rank import TextRankSummarizer\n"
   ]
  },
  {
   "cell_type": "code",
   "execution_count": 9,
   "metadata": {
    "id": "PMa3GXFNjRpD"
   },
   "outputs": [],
   "source": [
    "# import parsers and tokenizer\n",
    "from sumy.parsers.plaintext import PlaintextParser\n",
    "from sumy.nlp.tokenizers import Tokenizer"
   ]
  },
  {
   "cell_type": "code",
   "execution_count": 10,
   "metadata": {
    "colab": {
     "base_uri": "https://localhost:8080/",
     "height": 746
    },
    "id": "p6gdN81jjRpD",
    "outputId": "2e06911f-ee00-4721-f1d7-f9f6a9dbbd98"
   },
   "outputs": [
    {
     "data": {
      "text/plain": [
       "['The tiger has a typical felid morphology, with a muscular body, shortened legs, strong forelimbs with wide front paws, a large head and a tail that is about half the length of the rest of its body.',\n",
       " 'It has five digits, including a dewclaw, on the front feet and four on the back, all of which have retractile claws that are compact and curved, and can reach 10 cm (3.9 in) long.',\n",
       " 'The ears are rounded and the eyes have a round pupil.',\n",
       " 'The snout ends in a triangular, pink tip with small black dots, the number of which increase with age.',\n",
       " \"The tiger's skull is robust, with a constricted front region, proportionally small, elliptical orbits, long nasal bones and a lengthened cranium with a large sagittal crest.\",\n",
       " \"It resembles a lion's skull, but differs from it in the concave or flattened underside of the lower jaw and in its longer nasals.\",\n",
       " 'The tiger has 30 fairly robust teeth and its somewhat curved canines are the longest in the cat family at 6.4–7.6 cm (2.5–3.0 in).',\n",
       " 'The tiger has a head-body length of 1.4–2.8 m (4 ft 7 in – 9 ft 2 in) with a 0.6–1.1 m (2 ft 0 in – 3 ft 7 in) tail and stands 0.8–1.1 m (2 ft 7 in – 3 ft 7 in) at the shoulder.',\n",
       " 'The Siberian and Bengal tigers are the largest.',\n",
       " 'Male Bengal tigers weigh 200–260 kg (440–570 lb), and females weigh 100–160 kg (220–350 lb); island tigers are the smallest, likely due to insular dwarfism.',\n",
       " 'Male Sumatran tigers weigh 100–140 kg (220–310 lb), and females weigh 75–110 kg (165–243 lb).',\n",
       " \"The tiger is popularly thought to be the largest living felid species; but since tigers of the different subspecies and populations vary greatly in size and weight, the tiger's average size may be less than the lion's, while the largest tigers are bigger than their lion counterparts.\",\n",
       " \"The tiger's coat usually has short hairs, reaching up to 35 mm (1.4 in), though the hairs of the northern-living Siberian tiger can reach 105 mm (4.1 in).\",\n",
       " 'Belly hairs tend to be longer than back hairs.',\n",
       " 'The density of their fur is usually thin, though the Siberian tiger develops a particularly thick winter coat.',\n",
       " 'The tiger has lines of fur around the face and long whiskers, especially in males.',\n",
       " 'It has an orange colouration that varies from yellowish to reddish.',\n",
       " 'White fur covers the underside, from head to tail, along with the inner surface of the legs and parts of the face.',\n",
       " 'On the back of the ears, it has a prominent white spot, which is surrounded by black.',\n",
       " 'The tiger is marked with distinctive black or dark brown stripes, which are uniquely patterned in each individual.',\n",
       " 'The stripes are mostly vertical, but those on the limbs and forehead are horizontal.',\n",
       " 'They are more concentrated towards the backside and those on the trunk may reach under the belly.',\n",
       " 'The tips of stripes are generally sharp and some may split up or split and fuse again.',\n",
       " 'Tail stripes are thick bands and a black tip marks the end.',\n",
       " 'The tiger is one of only a few striped cat species.',\n",
       " 'Stripes are advantageous for camouflage in vegetation with vertical patterns of light and shade, such as trees, reeds and tall grass.',\n",
       " 'This is supported by a Fourier analysis study showing that the striping patterns line up with their environment.',\n",
       " \"The orange colour may also aid in concealment, as the tiger's prey is colour blind and possibly perceives the tiger as green and blended in with the vegetation.\",\n",
       " 'The three colour variants of Bengal tigers – nearly stripeless snow-white, white and golden – are now virtually non-existent in the wild due to the reduction of wild tiger populations but continue in captive populations.',\n",
       " 'The white tiger has a white background colour with sepia-brown stripes.',\n",
       " 'The golden tiger is pale golden with reddish-brown stripes.',\n",
       " 'The snow-white tiger is a morph with extremely faint stripes and a pale sepia-brown ringed tail.',\n",
       " 'White and golden morphs are the result of an autosomal recessive trait with a white locus and a wideband locus, respectively.',\n",
       " 'The snow-white variation is caused by polygenes with both white and wideband loci.',\n",
       " 'The breeding of white tigers is controversial, as they have no use for conservation.',\n",
       " 'Only 0.001% of wild tigers have the genes for this colour morph and the overrepresentation of white tigers in captivity is the result of inbreeding.',\n",
       " 'Hence, their continued breeding will risk both inbreeding depression and loss of genetic variability in captive tigers.',\n",
       " 'Pseudo-melanistic tigers with thick, merged stripes have been recorded in Simlipal National Park and three Indian zoos; a population genetic analysis of Indian tiger samples revealed that this phenotype is caused by a mutation of a transmembrane aminopeptidase gene.',\n",
       " 'Around 37% of the Simlipal tiger population has this feature, which has been linked to genetic isolation.']"
      ]
     },
     "metadata": {},
     "output_type": "display_data"
    },
    {
     "data": {
      "text/plain": [
       "39"
      ]
     },
     "execution_count": 10,
     "metadata": {},
     "output_type": "execute_result"
    }
   ],
   "source": [
    "from nltk.tokenize import sent_tokenize\n",
    "sents = sent_tokenize(cleaned_data)\n",
    "display(sents)\n",
    "len(sents)"
   ]
  },
  {
   "cell_type": "code",
   "execution_count": 11,
   "metadata": {
    "colab": {
     "base_uri": "https://localhost:8080/"
    },
    "id": "EAB5YlcNjRpE",
    "outputId": "7759d5b0-7726-4190-cf41-7e05f1e75769"
   },
   "outputs": [
    {
     "data": {
      "text/plain": [
       "<sumy.parsers.plaintext.PlaintextParser at 0x7fe29cdc1000>"
      ]
     },
     "execution_count": 11,
     "metadata": {},
     "output_type": "execute_result"
    }
   ],
   "source": [
    "## initializing the parser\n",
    "my_parser = PlaintextParser.from_string(cleaned_data, Tokenizer('english'))\n",
    "my_parser"
   ]
  },
  {
   "cell_type": "code",
   "execution_count": 12,
   "metadata": {
    "id": "YWyUNdMvjRpF"
   },
   "outputs": [],
   "source": [
    "# instantiate textrank\n",
    "text_rank_summ = TextRankSummarizer()"
   ]
  },
  {
   "cell_type": "code",
   "execution_count": 13,
   "metadata": {
    "id": "ntUDMmsTjRpF"
   },
   "outputs": [],
   "source": [
    "summary = text_rank_summ(my_parser.document, sentences_count=10)"
   ]
  },
  {
   "cell_type": "code",
   "execution_count": 14,
   "metadata": {
    "colab": {
     "base_uri": "https://localhost:8080/"
    },
    "id": "YfVge4xQjRpG",
    "outputId": "7cfc7706-6a73-4a4c-aca3-0af81d7abf7f"
   },
   "outputs": [
    {
     "name": "stdout",
     "output_type": "stream",
     "text": [
      "The tiger has a typical felid morphology, with a muscular body, shortened legs, strong forelimbs with wide front paws, a large head and a tail that is about half the length of the rest of its body. \n",
      "\n",
      "It has five digits, including a dewclaw, on the front feet and four on the back, all of which have retractile claws that are compact and curved, and can reach 10 cm (3.9 in) long. \n",
      "\n",
      "The tiger has 30 fairly robust teeth and its somewhat curved canines are the longest in the cat family at 6.4–7.6 cm (2.5–3.0 in). \n",
      "\n",
      "The tiger has a head-body length of 1.4–2.8 m (4 ft 7 in – 9 ft 2 in) with a 0.6–1.1 m (2 ft 0 in – 3 ft 7 in) tail and stands 0.8–1.1 m (2 ft 7 in – 3 ft 7 in) at the shoulder. \n",
      "\n",
      "The tiger is popularly thought to be the largest living felid species; but since tigers of the different subspecies and populations vary greatly in size and weight, the tiger's average size may be less than the lion's, while the largest tigers are bigger than their lion counterparts. \n",
      "\n",
      "The tiger's coat usually has short hairs, reaching up to 35 mm (1.4 in), though the hairs of the northern-living Siberian tiger can reach 105 mm (4.1 in). \n",
      "\n",
      "White fur covers the underside, from head to tail, along with the inner surface of the legs and parts of the face. \n",
      "\n",
      "The orange colour may also aid in concealment, as the tiger's prey is colour blind and possibly perceives the tiger as green and blended in with the vegetation. \n",
      "\n",
      "The three colour variants of Bengal tigers – nearly stripeless snow-white, white and golden – are now virtually non-existent in the wild due to the reduction of wild tiger populations but continue in captive populations. \n",
      "\n",
      "Only 0.001% of wild tigers have the genes for this colour morph and the overrepresentation of white tigers in captivity is the result of inbreeding. \n",
      "\n"
     ]
    }
   ],
   "source": [
    "for sents in summary:\n",
    "    print(sents, '\\n')"
   ]
  },
  {
   "cell_type": "code",
   "execution_count": 15,
   "metadata": {
    "id": "t3o5O6R9jRpG"
   },
   "outputs": [],
   "source": [
    "## text from different language\n",
    "marathi_text = '''वाघ हा पूर्णतः मासांहारी प्राणी आहे वाघाची चावण्याची क्षमता ही १०५० पिएस आय इतकी आहे वाघाचे शिकारी कौशल्य वादातीत आहे. पूर्ण वाढ झालेला हत्ती सोडला तर वाघ कोणत्याही जमिनीवरील प्राण्याची शिकार करण्यास समर्थ आहे. वाघाची मुख्य शिकार मध्यम ते मोठ्या आकाराचे प्राणी आहेत. सांबर हे वाघाचे सर्वात आवडते खाद्य आहे. तसेच इतर प्राणी उदा: रानगवा, चितळ, भेकर व इतर हरणे, रानडुक्कर, नीलगाय, रानम्हैस इत्यादी आहेत. वाघाचे खाद्य प्रांतानुसार, उपलब्धतेनुसार तसेच वयानुसार बदलते. पूर्ण वाढलेल्या हत्तीची तसेच गेंड्याची वाघांशी सामना झाल्याची उदाहरणे आहेत. परंतु साधारणपणे सामना टाळण्याचा कल असतो. वाघ बहुतांशी एकटे शिकार करतात. प्रजनन काळात जोडीने शिकार केल्याची उदाहरणे आहेत. पिल्ले आपल्या वाढत्या वयात आईच्या मार्गदर्शनाखाली एकत्रितपणे शिकार करतात.\n",
    "\n",
    "वाघांची शिकारीचे तंत्र हे बहुतांशी एकच असते. वाघ आपले सावज हेरतात व दबा धरून सावजाला न कळता जास्तीत जास्त जवळ जाण्याचा प्रयत्न करतात. जेव्हा सावज एक दोन ढांगांच्या अंतरावर येते तेव्हा चपळाईने सावजावर वाघ चाल करून जातो. पूर्ण वाढलेला वाघही साधारणपणे ६५ किमी/तास इतक्या वेगाने चाल करून जाऊ शकतो. तसेच वाघाची एक ढांग ५ते ६ मीटर पर्यंत जाऊ शकते. या वेगाने व आपल्या वजनाच्या संवेगाने वाघ सावजाला खाली पाडू शकतो. वाघ मोठ्या सावजांसाठी गळ्याचा चावा घेण्याचा प्रयत्न करतो व श्वसननलिका फ़ोडतो. सावज हलू नये यासाठी आपल्या नख्यांनी व ताकदवान पंज्यानी सावजाचा जीव जाईपर्यंत त्याला धरून ठेवतो. छोट्या प्राण्यांसाठी वाघ सरळ मानेचा लचका तोडतो यात सावज लगेचच मरून जाते. अतिशय छोट्या सावजांसाठी वाघाचा पंजाचा एक दणका सावजाची कवटी फ़ुटायला पुरेसा असतो.\n",
    "\n",
    "\n",
    "रणथंभोरचा एक वाघ शिकार करतांना\n",
    "भारतीय वाघ वानरांची शिकार करण्यासाठी अनोख्या युक्तीचा उपयोग करतात. ज्या झाडावर वानरे असतील तर त्या ठिकाणी जाऊन मोठ्याने डरकाळी फ़ोडतात. वानरांच्या कळपातील काही वानरे घाबरून अथवा हृदय बंद पडून झाडाखाली पडतात[९]. वाघ पाण्यात पोहूनही आपले भक्ष्य मिळवू शकतात तसेच पाण्यातून आपले भक्ष्य ओढूनही घेऊन जातात. रणथंभोरचा आजवरचा सर्वाधिक प्रसिद्ध` चंगीज´ नावाचा वाघ पाण्यातील सांबरांवर आक्रमण करण्यात पटाईत होता. याच्या शिकारीची क्षणचित्रे अनेक वाघांवरच्या चित्रपटांत आहेत.वाघ शिकार साधल्यावर ती लपवून ठेवतो. लपवून ठेवण्याचे मुख्य कारण म्हणजे शिकारीला अस्वले, तरस खासकरून गिधाडे इत्यादी प्राण्यांपासून दूर ठेवणे. लपवून ठेवण्यासाठी गुहा अथवा झाडांची दाट जाळी निवडतो. वाघ हा अतिउच्च दर्जाचा शिकारी असला तरी वाघाला एक शिकार मिळवायला सरासरी २० प्रयत्न करावे लागतात[१०]. वाघाला एकदा शिकार केल्यावर भक्ष्याच्या आकारानुसार ती शिकार तीन ते सात दिवसापर्यंत पुरते. वाघ महिन्यातून सरासरी तीन ते चार वेळा शिकार साधतात. शिकाऱ्यांनी केलेल्या नोंदीप्रमाणे वाघ शिकार खाण्याच्या बाबतीत अतिशय स्वच्छ प्राणी आहे. शिकार खाण्याच्या आगोदर वाघ पोट चिरून आतडी पूर्णपणे बाहेर काढतो व लांबवर फेकतो त्यानंतरच शिकार खाण्यास सुरुवात करतो. भक्ष्यातील मांसल भाग खाण्यास वाघाची जास्त पसंती असते.'''"
   ]
  },
  {
   "cell_type": "code",
   "execution_count": 16,
   "metadata": {
    "id": "SLSZ3FMXjRpH"
   },
   "outputs": [],
   "source": [
    "sents_marathi = sent_tokenize(marathi_text) # sentence tokenizing to be given to the parser"
   ]
  },
  {
   "cell_type": "code",
   "execution_count": 17,
   "metadata": {
    "id": "344F2bnejRpH"
   },
   "outputs": [],
   "source": [
    "marathi_parser = PlaintextParser.from_string(sents_marathi, Tokenizer('english'))\n"
   ]
  },
  {
   "cell_type": "code",
   "execution_count": 18,
   "metadata": {
    "id": "sro6fNhljRpH"
   },
   "outputs": [],
   "source": [
    "# create the text rank class instance\n",
    "text_rank_summa = TextRankSummarizer()\n"
   ]
  },
  {
   "cell_type": "code",
   "execution_count": 19,
   "metadata": {
    "id": "lJrhHfsajRpH"
   },
   "outputs": [],
   "source": [
    "summary_marathi = text_rank_summa(marathi_parser.document, sentences_count=10)\n"
   ]
  },
  {
   "cell_type": "code",
   "execution_count": 20,
   "metadata": {
    "colab": {
     "base_uri": "https://localhost:8080/"
    },
    "id": "fcRuYJT4jRpH",
    "outputId": "363de412-7ccb-4670-8811-77d8221fdbaa"
   },
   "outputs": [
    {
     "name": "stdout",
     "output_type": "stream",
     "text": [
      "', 'पूर्ण वाढ झालेला हत्ती सोडला तर वाघ कोणत्याही जमिनीवरील प्राण्याची शिकार करण्यास समर्थ आहे. \n",
      "\n",
      "', 'तसेच इतर प्राणी उदा: रानगवा, चितळ, भेकर व इतर हरणे, रानडुक्कर, नीलगाय, रानम्हैस इत्यादी आहेत. \n",
      "\n",
      "', 'जेव्हा सावज एक दोन ढांगांच्या अंतरावर येते तेव्हा चपळाईने सावजावर वाघ चाल करून जातो. \n",
      "\n",
      "', 'तसेच वाघाची एक ढांग ५ते ६ मीटर पर्यंत जाऊ शकते. \n",
      "\n",
      "', 'छोट्या प्राण्यांसाठी वाघ सरळ मानेचा लचका तोडतो यात सावज लगेचच मरून जाते. \n",
      "\n",
      "', 'अतिशय छोट्या सावजांसाठी वाघाचा पंजाचा एक दणका सावजाची कवटी फ़ुटायला पुरेसा असतो. \n",
      "\n",
      "', 'रणथंभोरचा एक वाघ शिकार करतांना\\nभारतीय वाघ वानरांची शिकार करण्यासाठी अनोख्या युक्तीचा उपयोग करतात. \n",
      "\n",
      "', 'ज्या झाडावर वानरे असतील तर त्या ठिकाणी जाऊन मोठ्याने डरकाळी फ़ोडतात. \n",
      "\n",
      "', 'लपवून ठेवण्याचे मुख्य कारण म्हणजे शिकारीला अस्वले, तरस खासकरून गिधाडे इत्यादी प्राण्यांपासून दूर ठेवणे. \n",
      "\n",
      "', 'वाघ हा अतिउच्च दर्जाचा शिकारी असला तरी वाघाला एक शिकार मिळवायला सरासरी २० प्रयत्न करावे लागतात[१०]. \n",
      "\n"
     ]
    }
   ],
   "source": [
    "for sents in summary_marathi:\n",
    "    print(sents, '\\n')"
   ]
  },
  {
   "cell_type": "markdown",
   "metadata": {
    "id": "hOAYb5vpjRpI"
   },
   "source": [
    "### Lex Rank Summarizer"
   ]
  },
  {
   "cell_type": "code",
   "execution_count": 21,
   "metadata": {
    "id": "gXZDJ5wPjRpI"
   },
   "outputs": [],
   "source": [
    "from sumy.summarizers.lex_rank import LexRankSummarizer"
   ]
  },
  {
   "cell_type": "code",
   "execution_count": 22,
   "metadata": {
    "colab": {
     "base_uri": "https://localhost:8080/"
    },
    "id": "8dUUHBFOjRpI",
    "outputId": "199fc26e-f016-4cea-a44c-e068795246f0"
   },
   "outputs": [
    {
     "data": {
      "text/plain": [
       "(<Sentence: It has five digits, including a dewclaw, on the front feet and four on the back, all of which have retractile claws that are compact and curved, and can reach 10 cm (3.9 in) long.>,\n",
       " <Sentence: The snout ends in a triangular, pink tip with small black dots, the number of which increase with age.>,\n",
       " <Sentence: The Siberian and Bengal tigers are the largest.>,\n",
       " <Sentence: The tiger's coat usually has short hairs, reaching up to 35 mm (1.4 in), though the hairs of the northern-living Siberian tiger can reach 105 mm (4.1 in).>,\n",
       " <Sentence: On the back of the ears, it has a prominent white spot, which is surrounded by black.>,\n",
       " <Sentence: The three colour variants of Bengal tigers – nearly stripeless snow-white, white and golden – are now virtually non-existent in the wild due to the reduction of wild tiger populations but continue in captive populations.>,\n",
       " <Sentence: The white tiger has a white background colour with sepia-brown stripes.>,\n",
       " <Sentence: The snow-white tiger is a morph with extremely faint stripes and a pale sepia-brown ringed tail.>,\n",
       " <Sentence: Only 0.001% of wild tigers have the genes for this colour morph and the overrepresentation of white tigers in captivity is the result of inbreeding.>,\n",
       " <Sentence: Pseudo-melanistic tigers with thick, merged stripes have been recorded in Simlipal National Park and three Indian zoos; a population genetic analysis of Indian tiger samples revealed that this phenotype is caused by a mutation of a transmembrane aminopeptidase gene.>)"
      ]
     },
     "execution_count": 22,
     "metadata": {},
     "output_type": "execute_result"
    }
   ],
   "source": [
    "# parser initialization\n",
    "my_parser = PlaintextParser.from_string(cleaned_data, Tokenizer('english'))\n",
    "# create the object of LexRankSummarizer\n",
    "lex_rank_summ = LexRankSummarizer()\n",
    "\n",
    "summary = lex_rank_summ(my_parser.document, sentences_count=10)\n",
    "\n",
    "summary"
   ]
  },
  {
   "cell_type": "code",
   "execution_count": 23,
   "metadata": {
    "colab": {
     "base_uri": "https://localhost:8080/"
    },
    "id": "1_blXGoDjRpI",
    "outputId": "895e2448-2a5e-4c31-d603-201c1fb8a1f1"
   },
   "outputs": [
    {
     "name": "stdout",
     "output_type": "stream",
     "text": [
      "It has five digits, including a dewclaw, on the front feet and four on the back, all of which have retractile claws that are compact and curved, and can reach 10 cm (3.9 in) long. \n",
      "\n",
      "The snout ends in a triangular, pink tip with small black dots, the number of which increase with age. \n",
      "\n",
      "The Siberian and Bengal tigers are the largest. \n",
      "\n",
      "The tiger's coat usually has short hairs, reaching up to 35 mm (1.4 in), though the hairs of the northern-living Siberian tiger can reach 105 mm (4.1 in). \n",
      "\n",
      "On the back of the ears, it has a prominent white spot, which is surrounded by black. \n",
      "\n",
      "The three colour variants of Bengal tigers – nearly stripeless snow-white, white and golden – are now virtually non-existent in the wild due to the reduction of wild tiger populations but continue in captive populations. \n",
      "\n",
      "The white tiger has a white background colour with sepia-brown stripes. \n",
      "\n",
      "The snow-white tiger is a morph with extremely faint stripes and a pale sepia-brown ringed tail. \n",
      "\n",
      "Only 0.001% of wild tigers have the genes for this colour morph and the overrepresentation of white tigers in captivity is the result of inbreeding. \n",
      "\n",
      "Pseudo-melanistic tigers with thick, merged stripes have been recorded in Simlipal National Park and three Indian zoos; a population genetic analysis of Indian tiger samples revealed that this phenotype is caused by a mutation of a transmembrane aminopeptidase gene. \n",
      "\n"
     ]
    }
   ],
   "source": [
    "for sentence in summary:\n",
    "    print(sentence, '\\n')"
   ]
  },
  {
   "cell_type": "markdown",
   "metadata": {
    "id": "YeQuhJ43jRpI"
   },
   "source": [
    "### Latent semantic analysis LSA"
   ]
  },
  {
   "cell_type": "code",
   "execution_count": 24,
   "metadata": {
    "id": "1fLpRGGrjRpJ"
   },
   "outputs": [],
   "source": [
    "## import the lsa summarizer\n",
    "from sumy.summarizers.lsa import LsaSummarizer\n"
   ]
  },
  {
   "cell_type": "code",
   "execution_count": 25,
   "metadata": {
    "id": "1kPgEmV5jRpJ"
   },
   "outputs": [],
   "source": [
    "## parser initialization\n",
    "my_parser = PlaintextParser.from_string(cleaned_data, Tokenizer('english'))\n"
   ]
  },
  {
   "cell_type": "code",
   "execution_count": 26,
   "metadata": {
    "id": "sQMBfnlrjRpJ"
   },
   "outputs": [],
   "source": [
    "## create the instance of LSA Summarizer\n",
    "lsa = LsaSummarizer()\n",
    "summary = lsa(my_parser.document, sentences_count=10)\n"
   ]
  },
  {
   "cell_type": "code",
   "execution_count": 27,
   "metadata": {
    "colab": {
     "base_uri": "https://localhost:8080/"
    },
    "id": "Y9WTWuVWjRpJ",
    "outputId": "5f5be0cf-dae3-4f1d-8e4d-cd0411672ae7"
   },
   "outputs": [
    {
     "name": "stdout",
     "output_type": "stream",
     "text": [
      "It resembles a lion's skull, but differs from it in the concave or flattened underside of the lower jaw and in its longer nasals. \n",
      "\n",
      "It has an orange colouration that varies from yellowish to reddish. \n",
      "\n",
      "The tiger is marked with distinctive black or dark brown stripes, which are uniquely patterned in each individual. \n",
      "\n",
      "Tail stripes are thick bands and a black tip marks the end. \n",
      "\n",
      "The tiger is one of only a few striped cat species. \n",
      "\n",
      "This is supported by a Fourier analysis study showing that the striping patterns line up with their environment. \n",
      "\n",
      "The snow-white variation is caused by polygenes with both white and wideband loci. \n",
      "\n",
      "The breeding of white tigers is controversial, as they have no use for conservation. \n",
      "\n",
      "Hence, their continued breeding will risk both inbreeding depression and loss of genetic variability in captive tigers. \n",
      "\n",
      "Pseudo-melanistic tigers with thick, merged stripes have been recorded in Simlipal National Park and three Indian zoos; a population genetic analysis of Indian tiger samples revealed that this phenotype is caused by a mutation of a transmembrane aminopeptidase gene. \n",
      "\n"
     ]
    }
   ],
   "source": [
    "# print the summary\n",
    "for sents in summary:\n",
    "    print(sents, '\\n')"
   ]
  },
  {
   "cell_type": "markdown",
   "metadata": {
    "id": "pFlswPQMjRpJ"
   },
   "source": [
    "### Abstractive Summarization"
   ]
  },
  {
   "cell_type": "code",
   "execution_count": 28,
   "metadata": {
    "colab": {
     "base_uri": "https://localhost:8080/"
    },
    "id": "rtzNj7LEjRpJ",
    "outputId": "21a3cdd7-f8d5-4fe0-ef8f-6c14835a79a9"
   },
   "outputs": [
    {
     "name": "stdout",
     "output_type": "stream",
     "text": [
      "Requirement already satisfied: transformers in /usr/local/lib/python3.10/dist-packages (4.46.3)\n",
      "Requirement already satisfied: filelock in /usr/local/lib/python3.10/dist-packages (from transformers) (3.16.1)\n",
      "Requirement already satisfied: huggingface-hub<1.0,>=0.23.2 in /usr/local/lib/python3.10/dist-packages (from transformers) (0.26.3)\n",
      "Requirement already satisfied: numpy>=1.17 in /usr/local/lib/python3.10/dist-packages (from transformers) (1.26.4)\n",
      "Requirement already satisfied: packaging>=20.0 in /usr/local/lib/python3.10/dist-packages (from transformers) (24.2)\n",
      "Requirement already satisfied: pyyaml>=5.1 in /usr/local/lib/python3.10/dist-packages (from transformers) (6.0.2)\n",
      "Requirement already satisfied: regex!=2019.12.17 in /usr/local/lib/python3.10/dist-packages (from transformers) (2024.9.11)\n",
      "Requirement already satisfied: requests in /usr/local/lib/python3.10/dist-packages (from transformers) (2.32.3)\n",
      "Requirement already satisfied: tokenizers<0.21,>=0.20 in /usr/local/lib/python3.10/dist-packages (from transformers) (0.20.3)\n",
      "Requirement already satisfied: safetensors>=0.4.1 in /usr/local/lib/python3.10/dist-packages (from transformers) (0.4.5)\n",
      "Requirement already satisfied: tqdm>=4.27 in /usr/local/lib/python3.10/dist-packages (from transformers) (4.66.6)\n",
      "Requirement already satisfied: fsspec>=2023.5.0 in /usr/local/lib/python3.10/dist-packages (from huggingface-hub<1.0,>=0.23.2->transformers) (2024.10.0)\n",
      "Requirement already satisfied: typing-extensions>=3.7.4.3 in /usr/local/lib/python3.10/dist-packages (from huggingface-hub<1.0,>=0.23.2->transformers) (4.12.2)\n",
      "Requirement already satisfied: charset-normalizer<4,>=2 in /usr/local/lib/python3.10/dist-packages (from requests->transformers) (3.4.0)\n",
      "Requirement already satisfied: idna<4,>=2.5 in /usr/local/lib/python3.10/dist-packages (from requests->transformers) (3.10)\n",
      "Requirement already satisfied: urllib3<3,>=1.21.1 in /usr/local/lib/python3.10/dist-packages (from requests->transformers) (2.2.3)\n",
      "Requirement already satisfied: certifi>=2017.4.17 in /usr/local/lib/python3.10/dist-packages (from requests->transformers) (2024.8.30)\n"
     ]
    }
   ],
   "source": [
    "pip install transformers"
   ]
  },
  {
   "cell_type": "code",
   "execution_count": 29,
   "metadata": {
    "id": "P_xqbY_bjRpK"
   },
   "outputs": [],
   "source": [
    "from transformers import pipeline"
   ]
  },
  {
   "cell_type": "code",
   "execution_count": 46,
   "metadata": {
    "colab": {
     "base_uri": "https://localhost:8080/"
    },
    "id": "qGVjYEEdjRpK",
    "outputId": "02b229d6-1bd4-4390-e75e-691dbf1a94ca"
   },
   "outputs": [
    {
     "name": "stderr",
     "output_type": "stream",
     "text": [
      "No model was supplied, defaulted to sshleifer/distilbart-cnn-12-6 and revision a4f8f3e (https://huggingface.co/sshleifer/distilbart-cnn-12-6).\n",
      "Using a pipeline without specifying a model name and revision in production is not recommended.\n"
     ]
    }
   ],
   "source": [
    "summarizer = pipeline('summarization', device='cuda')"
   ]
  },
  {
   "cell_type": "code",
   "execution_count": 47,
   "metadata": {
    "colab": {
     "base_uri": "https://localhost:8080/"
    },
    "id": "zqCUQlC0jRpK",
    "outputId": "2c1f294f-3992-4bc6-93d4-234828ca6b06"
   },
   "outputs": [
    {
     "data": {
      "text/plain": [
       "<transformers.pipelines.text2text_generation.SummarizationPipeline at 0x7fe2d726e620>"
      ]
     },
     "execution_count": 47,
     "metadata": {},
     "output_type": "execute_result"
    }
   ],
   "source": [
    "summarizer"
   ]
  },
  {
   "cell_type": "code",
   "execution_count": 48,
   "metadata": {
    "id": "wkMzPHfslH0c"
   },
   "outputs": [],
   "source": [
    "tiger_text = '''The tiger (Panthera tigris) is a large cat and a member of the genus Panthera native to Asia. It has a powerful, muscular body with a large head and paws, a long tail and orange fur with black, mostly vertical stripes. It is traditionally classified into nine recent subspecies, though some recognise only two subspecies, mainland Asian tigers and the island tigers of the Sunda Islands.\n",
    "\n",
    "Throughout the tiger's range, it inhabits mainly forests, from coniferous and temperate broadleaf and mixed forests in the Russian Far East and Northeast China to tropical and subtropical moist broadleaf forests on the Indian subcontinent and Southeast Asia. The tiger is an apex predator and preys mainly on ungulates, which it takes by ambush. It lives a mostly solitary life and occupies home ranges, defending these from individuals of the same sex. The range of a male tiger overlaps with that of multiple females with whom he mates. Females give birth to usually two or three cubs that stay with their mother for about two years. When becoming independent, they leave their mother's home range and establish their own.\n",
    "\n",
    "Since the early 20th century, tiger populations have lost at least 93% of their historic range and are locally extinct in West and Central Asia, in large areas of China and on the islands of Java and Bali. Today, the tiger's range is severely fragmented. It is listed as Endangered on the IUCN Red List of Threatened Species, as its range is thought to have declined by 53% to 68% since the late 1990s. Major threats to tigers are habitat destruction and fragmentation due to deforestation, poaching for fur and the illegal trade of body parts for medicinal purposes. Tigers are also victims of human–wildlife conflict as they attack and prey on livestock in areas where natural prey is scarce. The tiger is legally protected in all range countries. National conservation measures consist of action plans, anti-poaching patrols and schemes for monitoring tiger populations. In several range countries, wildlife corridors have been established and tiger reintroduction is planned.\n",
    "\n",
    "The tiger is among the most popular of the world's charismatic megafauna. It has been kept in captivity since ancient times and has been trained to perform in circuses and other entertainment shows. The tiger featured prominently in the ancient mythology and folklore of cultures throughout its historic range and has continued to appear in culture worldwide.'''"
   ]
  },
  {
   "cell_type": "code",
   "execution_count": 51,
   "metadata": {
    "colab": {
     "base_uri": "https://localhost:8080/",
     "height": 53
    },
    "id": "dX6Fod5Zkwpk",
    "outputId": "bda370d1-3c4a-42ec-f653-c46553d0a71a"
   },
   "outputs": [
    {
     "data": {
      "application/vnd.google.colaboratory.intrinsic+json": {
       "type": "string"
      },
      "text/plain": [
       "' The tiger (Panthera tigris) is a large cat and a member of the genus Panthera native to Asia . It has a powerful, muscular body with a large head and paws, a long tail and orange fur with black, mostly vertical stripes . It is listed as Endangered on the IUCN Red List of Threatened Species .'"
      ]
     },
     "execution_count": 51,
     "metadata": {},
     "output_type": "execute_result"
    }
   ],
   "source": [
    "summary  = summarizer(tiger_text, max_length=200, min_length=50)\n",
    "summary[0]['summary_text']"
   ]
  },
  {
   "cell_type": "code",
   "execution_count": null,
   "metadata": {
    "id": "NHyKmmzemzMg"
   },
   "outputs": [],
   "source": []
  }
 ],
 "metadata": {
  "accelerator": "GPU",
  "colab": {
   "gpuType": "T4",
   "provenance": []
  },
  "kernelspec": {
   "display_name": "Python 3",
   "name": "python3"
  },
  "language_info": {
   "codemirror_mode": {
    "name": "ipython",
    "version": 3
   },
   "file_extension": ".py",
   "mimetype": "text/x-python",
   "name": "python",
   "nbconvert_exporter": "python",
   "pygments_lexer": "ipython3",
   "version": "3.12.4"
  }
 },
 "nbformat": 4,
 "nbformat_minor": 0
}
