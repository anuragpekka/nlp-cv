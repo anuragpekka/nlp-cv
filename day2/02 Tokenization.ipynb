{
 "cells": [
  {
   "cell_type": "code",
   "execution_count": 1,
   "metadata": {
    "executionInfo": {
     "elapsed": 7570,
     "status": "ok",
     "timestamp": 1733319466250,
     "user": {
      "displayName": "Amit Gupta",
      "userId": "05660463280287655338"
     },
     "user_tz": -330
    },
    "id": "ZKsCooDssUrr"
   },
   "outputs": [],
   "source": [
    "import nltk"
   ]
  },
  {
   "cell_type": "code",
   "execution_count": 2,
   "metadata": {
    "executionInfo": {
     "elapsed": 1020,
     "status": "ok",
     "timestamp": 1733319592887,
     "user": {
      "displayName": "Amit Gupta",
      "userId": "05660463280287655338"
     },
     "user_tz": -330
    },
    "id": "R8VlOrwg1OS8"
   },
   "outputs": [],
   "source": [
    "#nltk.download()"
   ]
  },
  {
   "cell_type": "code",
   "execution_count": 3,
   "metadata": {
    "colab": {
     "base_uri": "https://localhost:8080/"
    },
    "executionInfo": {
     "elapsed": 1432,
     "status": "ok",
     "timestamp": 1733319533095,
     "user": {
      "displayName": "Amit Gupta",
      "userId": "05660463280287655338"
     },
     "user_tz": -330
    },
    "id": "eMzev0PX1UI1",
    "outputId": "372e231e-9a91-4513-eced-d4a62d6d4575"
   },
   "outputs": [
    {
     "name": "stderr",
     "output_type": "stream",
     "text": [
      "[nltk_data] Downloading package punkt to\n",
      "[nltk_data]     C:\\Users\\dai\\AppData\\Roaming\\nltk_data...\n",
      "[nltk_data]   Unzipping tokenizers\\punkt.zip.\n",
      "[nltk_data] Downloading package punkt_tab to\n",
      "[nltk_data]     C:\\Users\\dai\\AppData\\Roaming\\nltk_data...\n",
      "[nltk_data]   Unzipping tokenizers\\punkt_tab.zip.\n",
      "[nltk_data] Downloading package stopwords to\n",
      "[nltk_data]     C:\\Users\\dai\\AppData\\Roaming\\nltk_data...\n",
      "[nltk_data]   Package stopwords is already up-to-date!\n",
      "[nltk_data] Downloading package wordnet to\n",
      "[nltk_data]     C:\\Users\\dai\\AppData\\Roaming\\nltk_data...\n",
      "[nltk_data] Downloading package omw-1.4 to\n",
      "[nltk_data]     C:\\Users\\dai\\AppData\\Roaming\\nltk_data...\n",
      "[nltk_data] Downloading package averaged_perceptron_tagger to\n",
      "[nltk_data]     C:\\Users\\dai\\AppData\\Roaming\\nltk_data...\n",
      "[nltk_data]   Unzipping taggers\\averaged_perceptron_tagger.zip.\n",
      "[nltk_data] Downloading package indian to\n",
      "[nltk_data]     C:\\Users\\dai\\AppData\\Roaming\\nltk_data...\n",
      "[nltk_data]   Unzipping corpora\\indian.zip.\n",
      "[nltk_data] Downloading package maxent_ne_chunker to\n",
      "[nltk_data]     C:\\Users\\dai\\AppData\\Roaming\\nltk_data...\n",
      "[nltk_data]   Unzipping chunkers\\maxent_ne_chunker.zip.\n"
     ]
    },
    {
     "data": {
      "text/plain": [
       "True"
      ]
     },
     "execution_count": 3,
     "metadata": {},
     "output_type": "execute_result"
    }
   ],
   "source": [
    "nltk.download('punkt') #tokenization\n",
    "nltk.download('punkt_tab')\n",
    "nltk.download('stopwords') #collection of stopwords\n",
    "nltk.download('wordnet') #WORDNET -> DATABASE OF ENGLISH WORDS\n",
    "nltk.download('omw-1.4') #open multilinguial wordnet\n",
    "nltk.download('averaged_perceptron_tagger') # POS tagging\n",
    "nltk.download('indian') # INDIAN language POS tagging\n",
    "nltk.download('maxent_ne_chunker') # NER tagging"
   ]
  },
  {
   "cell_type": "code",
   "execution_count": 4,
   "metadata": {
    "executionInfo": {
     "elapsed": 1,
     "status": "ok",
     "timestamp": 1733319533095,
     "user": {
      "displayName": "Amit Gupta",
      "userId": "05660463280287655338"
     },
     "user_tz": -330
    },
    "id": "BCxQFU-z2M5W"
   },
   "outputs": [],
   "source": [
    "#### Word Tokenize"
   ]
  },
  {
   "cell_type": "code",
   "execution_count": 5,
   "metadata": {
    "colab": {
     "base_uri": "https://localhost:8080/"
    },
    "executionInfo": {
     "elapsed": 2,
     "status": "ok",
     "timestamp": 1733319535122,
     "user": {
      "displayName": "Amit Gupta",
      "userId": "05660463280287655338"
     },
     "user_tz": -330
    },
    "id": "bZ9dkg4h4jJK",
    "outputId": "86fce504-5919-45ec-df24-70277f9a62f0"
   },
   "outputs": [
    {
     "data": {
      "text/plain": [
       "['They',\n",
       " 'told',\n",
       " 'that',\n",
       " 'their',\n",
       " 'ages',\n",
       " 'are',\n",
       " '25,',\n",
       " '26',\n",
       " 'and',\n",
       " '31',\n",
       " 'respectively.']"
      ]
     },
     "execution_count": 5,
     "metadata": {},
     "output_type": "execute_result"
    }
   ],
   "source": [
    "sent = 'They told that their ages are 25, 26 and 31 respectively.'\n",
    "sent.split()"
   ]
  },
  {
   "cell_type": "code",
   "execution_count": 6,
   "metadata": {
    "executionInfo": {
     "elapsed": 1024,
     "status": "ok",
     "timestamp": 1733319544109,
     "user": {
      "displayName": "Amit Gupta",
      "userId": "05660463280287655338"
     },
     "user_tz": -330
    },
    "id": "6ORlhBT94uCX"
   },
   "outputs": [],
   "source": [
    "from nltk.tokenize import word_tokenize\n"
   ]
  },
  {
   "cell_type": "code",
   "execution_count": 7,
   "metadata": {
    "colab": {
     "base_uri": "https://localhost:8080/"
    },
    "executionInfo": {
     "elapsed": 683,
     "status": "ok",
     "timestamp": 1733319567674,
     "user": {
      "displayName": "Amit Gupta",
      "userId": "05660463280287655338"
     },
     "user_tz": -330
    },
    "id": "newn32jV4zL1",
    "outputId": "857abc86-045c-4507-a70e-910fc682e3f8"
   },
   "outputs": [
    {
     "data": {
      "text/plain": [
       "['They',\n",
       " 'told',\n",
       " 'that',\n",
       " 'their',\n",
       " 'ages',\n",
       " 'are',\n",
       " '25',\n",
       " ',',\n",
       " '26',\n",
       " 'and',\n",
       " '31',\n",
       " 'respectively',\n",
       " '.']"
      ]
     },
     "execution_count": 7,
     "metadata": {},
     "output_type": "execute_result"
    }
   ],
   "source": [
    "word = word_tokenize(sent)\n",
    "word"
   ]
  },
  {
   "cell_type": "code",
   "execution_count": 8,
   "metadata": {
    "executionInfo": {
     "elapsed": 687,
     "status": "ok",
     "timestamp": 1733319669244,
     "user": {
      "displayName": "Amit Gupta",
      "userId": "05660463280287655338"
     },
     "user_tz": -330
    },
    "id": "qHrqcbK35aNS"
   },
   "outputs": [],
   "source": [
    "sent = 'Dr. Deshmukh told me about this.'"
   ]
  },
  {
   "cell_type": "code",
   "execution_count": 9,
   "metadata": {
    "colab": {
     "base_uri": "https://localhost:8080/"
    },
    "executionInfo": {
     "elapsed": 1558,
     "status": "ok",
     "timestamp": 1733319672569,
     "user": {
      "displayName": "Amit Gupta",
      "userId": "05660463280287655338"
     },
     "user_tz": -330
    },
    "id": "JrKCcmHU5pB-",
    "outputId": "6621ceae-e0ea-461c-e43b-4e43a17b8887"
   },
   "outputs": [
    {
     "data": {
      "text/plain": [
       "['Dr.', 'Deshmukh', 'told', 'me', 'about', 'this', '.']"
      ]
     },
     "execution_count": 9,
     "metadata": {},
     "output_type": "execute_result"
    }
   ],
   "source": [
    "word = word_tokenize(sent)\n",
    "word"
   ]
  },
  {
   "cell_type": "code",
   "execution_count": 10,
   "metadata": {
    "executionInfo": {
     "elapsed": 1020,
     "status": "ok",
     "timestamp": 1733319757206,
     "user": {
      "displayName": "Amit Gupta",
      "userId": "05660463280287655338"
     },
     "user_tz": -330
    },
    "id": "DWYc3JSV5rOA"
   },
   "outputs": [],
   "source": [
    "sent = 'Dr. Deshmukh told the A1, about22 to  me about this.'"
   ]
  },
  {
   "cell_type": "code",
   "execution_count": 11,
   "metadata": {
    "colab": {
     "base_uri": "https://localhost:8080/"
    },
    "executionInfo": {
     "elapsed": 3,
     "status": "ok",
     "timestamp": 1733319757207,
     "user": {
      "displayName": "Amit Gupta",
      "userId": "05660463280287655338"
     },
     "user_tz": -330
    },
    "id": "H1Qi8yXL59EN",
    "outputId": "2cbe88ca-55b4-47c2-f8c8-23fad968a60e"
   },
   "outputs": [
    {
     "data": {
      "text/plain": [
       "['Dr.',\n",
       " 'Deshmukh',\n",
       " 'told',\n",
       " 'the',\n",
       " 'A1',\n",
       " ',',\n",
       " 'about22',\n",
       " 'to',\n",
       " 'me',\n",
       " 'about',\n",
       " 'this',\n",
       " '.']"
      ]
     },
     "execution_count": 11,
     "metadata": {},
     "output_type": "execute_result"
    }
   ],
   "source": [
    "word = word_tokenize(sent)\n",
    "word"
   ]
  },
  {
   "cell_type": "code",
   "execution_count": 12,
   "metadata": {
    "executionInfo": {
     "elapsed": 1080,
     "status": "ok",
     "timestamp": 1733319818266,
     "user": {
      "displayName": "Amit Gupta",
      "userId": "05660463280287655338"
     },
     "user_tz": -330
    },
    "id": "hKiuZlNw5-W-"
   },
   "outputs": [],
   "source": [
    "sent = '''Hello friends!\n",
    "How are you? Welcome to the world of Python Programming.'''"
   ]
  },
  {
   "cell_type": "code",
   "execution_count": 13,
   "metadata": {
    "executionInfo": {
     "elapsed": 2,
     "status": "ok",
     "timestamp": 1733319843712,
     "user": {
      "displayName": "Amit Gupta",
      "userId": "05660463280287655338"
     },
     "user_tz": -330
    },
    "id": "WvTrCjr66XSp"
   },
   "outputs": [],
   "source": [
    "# Count percentage of punctuations in it"
   ]
  },
  {
   "cell_type": "code",
   "execution_count": 14,
   "metadata": {
    "colab": {
     "base_uri": "https://localhost:8080/"
    },
    "executionInfo": {
     "elapsed": 1039,
     "status": "ok",
     "timestamp": 1733319979528,
     "user": {
      "displayName": "Amit Gupta",
      "userId": "05660463280287655338"
     },
     "user_tz": -330
    },
    "id": "j2KW4qby6dps",
    "outputId": "0b7fdac6-a5d5-445a-939d-770dc4c9cd1c"
   },
   "outputs": [
    {
     "data": {
      "text/plain": [
       "['Hello',\n",
       " 'friends',\n",
       " '!',\n",
       " 'How',\n",
       " 'are',\n",
       " 'you',\n",
       " '?',\n",
       " 'Welcome',\n",
       " 'to',\n",
       " 'the',\n",
       " 'world',\n",
       " 'of',\n",
       " 'Python',\n",
       " 'Programming',\n",
       " '.']"
      ]
     },
     "execution_count": 14,
     "metadata": {},
     "output_type": "execute_result"
    }
   ],
   "source": [
    "tokens = word_tokenize(sent)\n",
    "tokens\n"
   ]
  },
  {
   "cell_type": "code",
   "execution_count": 15,
   "metadata": {
    "executionInfo": {
     "elapsed": 1128,
     "status": "ok",
     "timestamp": 1733320015310,
     "user": {
      "displayName": "Amit Gupta",
      "userId": "05660463280287655338"
     },
     "user_tz": -330
    },
    "id": "gB4QnE_96gir"
   },
   "outputs": [],
   "source": [
    "import string"
   ]
  },
  {
   "cell_type": "code",
   "execution_count": 16,
   "metadata": {
    "colab": {
     "base_uri": "https://localhost:8080/"
    },
    "executionInfo": {
     "elapsed": 886,
     "status": "ok",
     "timestamp": 1733320346039,
     "user": {
      "displayName": "Amit Gupta",
      "userId": "05660463280287655338"
     },
     "user_tz": -330
    },
    "id": "q3YQ_u4d6wL6",
    "outputId": "a5e012bc-47f6-4fc7-ba7b-a97ae6c313de"
   },
   "outputs": [
    {
     "data": {
      "text/plain": [
       "['!', '?', '.']"
      ]
     },
     "execution_count": 16,
     "metadata": {},
     "output_type": "execute_result"
    }
   ],
   "source": [
    "\n",
    "a = []\n",
    "for words in tokens:\n",
    "    if words in string.punctuation:\n",
    "       a.append(words)\n",
    "\n",
    "a"
   ]
  },
  {
   "cell_type": "code",
   "execution_count": 17,
   "metadata": {
    "colab": {
     "base_uri": "https://localhost:8080/"
    },
    "executionInfo": {
     "elapsed": 610,
     "status": "ok",
     "timestamp": 1733320421097,
     "user": {
      "displayName": "Amit Gupta",
      "userId": "05660463280287655338"
     },
     "user_tz": -330
    },
    "id": "Q39cjvrW7Mb3",
    "outputId": "37fb373b-d890-489e-efd4-048cb3c91e5a"
   },
   "outputs": [
    {
     "data": {
      "text/plain": [
       "20.0"
      ]
     },
     "execution_count": 17,
     "metadata": {},
     "output_type": "execute_result"
    }
   ],
   "source": [
    "len(a)/len(tokens) *100"
   ]
  },
  {
   "cell_type": "code",
   "execution_count": 18,
   "metadata": {
    "colab": {
     "base_uri": "https://localhost:8080/"
    },
    "executionInfo": {
     "elapsed": 845,
     "status": "ok",
     "timestamp": 1733320367964,
     "user": {
      "displayName": "Amit Gupta",
      "userId": "05660463280287655338"
     },
     "user_tz": -330
    },
    "id": "znoNdRso7mUE",
    "outputId": "6003279b-db9d-4b7e-a59a-ee366513c0f2"
   },
   "outputs": [
    {
     "data": {
      "text/plain": [
       "['!', '?', '.']"
      ]
     },
     "execution_count": 18,
     "metadata": {},
     "output_type": "execute_result"
    }
   ],
   "source": [
    "count = [word for word in tokens if word in string.punctuation]\n",
    "count"
   ]
  },
  {
   "cell_type": "code",
   "execution_count": 19,
   "metadata": {
    "colab": {
     "base_uri": "https://localhost:8080/"
    },
    "executionInfo": {
     "elapsed": 1033,
     "status": "ok",
     "timestamp": 1733320250351,
     "user": {
      "displayName": "Amit Gupta",
      "userId": "05660463280287655338"
     },
     "user_tz": -330
    },
    "id": "aeznzkHR79ok",
    "outputId": "9e81106d-b5e1-41b5-afb5-f88d5b3530d1"
   },
   "outputs": [
    {
     "data": {
      "text/plain": [
       "20.0"
      ]
     },
     "execution_count": 19,
     "metadata": {},
     "output_type": "execute_result"
    }
   ],
   "source": [
    "len(count) / len(tokens) * 100"
   ]
  },
  {
   "cell_type": "code",
   "execution_count": 20,
   "metadata": {
    "executionInfo": {
     "elapsed": 1004,
     "status": "ok",
     "timestamp": 1733320318206,
     "user": {
      "displayName": "Amit Gupta",
      "userId": "05660463280287655338"
     },
     "user_tz": -330
    },
    "id": "ENiMjrkP8Ayi"
   },
   "outputs": [],
   "source": [
    "count = [word for word in tokens if not word.isalpha() and not word.isdigit()]"
   ]
  },
  {
   "cell_type": "code",
   "execution_count": 21,
   "metadata": {
    "colab": {
     "base_uri": "https://localhost:8080/"
    },
    "executionInfo": {
     "elapsed": 1694,
     "status": "ok",
     "timestamp": 1733320331066,
     "user": {
      "displayName": "Amit Gupta",
      "userId": "05660463280287655338"
     },
     "user_tz": -330
    },
    "id": "V9WRpJp-8RXv",
    "outputId": "b34c8a67-3219-415c-8fab-388b90c4350f"
   },
   "outputs": [
    {
     "data": {
      "text/plain": [
       "20.0"
      ]
     },
     "execution_count": 21,
     "metadata": {},
     "output_type": "execute_result"
    }
   ],
   "source": [
    "len(count) / len(tokens) * 100"
   ]
  },
  {
   "cell_type": "code",
   "execution_count": 22,
   "metadata": {
    "id": "0JaWZ1s_8UVh"
   },
   "outputs": [],
   "source": [
    "sents = ''' ग्लेशियर नेशनल पार्क (अंग्रेज़ी: Glacier National Park; उच्चा.: \n",
    "ग्लेशियर नेशनल पार्क) अमेरिकी राष्ट्रीय उद्यान है, \n",
    "जो कनाडा-संयुक्त राज्य अमेरिका की सीमा के उत्तर-पश्चिमी मोंटाना राज्य में स्थित है और कनाडा की ओर अल्बर्टा \n",
    "और ब्रिटिश कोलम्बिया प्रांतों से सटा हुआ है।\n",
    "यह उद्यान दस लाख एकड़ (4,000 किमी2) से अधिक क्षेत्र में फैला हुआ है और \n",
    "इसमें दो पर्वत श्रृंखलाएँ (रॉकी पर्वत की उप-श्रेणियाँ), 130 से अधिक नामित झीलें, 1,000 से अधिक विभिन्न पौधों की प्रजातियाँ और वन्यजीवों की सैकड़ों प्रजातियाँ शामिल हैं। \n",
    "इस विशाल प्राचीन पारिस्थितिकी तंत्र को जो 16,000 वर्ग मील (41,000 किमी2) में शामिल संरक्षित भूमि का भाग है, \n",
    "\"क्राउन ऑफ़ द कॉन्टिनेंट इकोसिस्टम\" के रूप में संदर्भित किया गया है।[1]\n",
    "'''"
   ]
  },
  {
   "cell_type": "code",
   "execution_count": 23,
   "metadata": {},
   "outputs": [
    {
     "data": {
      "text/plain": [
       "' ग्लेशियर नेशनल पार्क (अंग्रेज़ी: Glacier National Park; उच्चा.: \\nग्लेशियर नेशनल पार्क) अमेरिकी राष्ट्रीय उद्यान है, \\nजो कनाडा-संयुक्त राज्य अमेरिका की सीमा के उत्तर-पश्चिमी मोंटाना राज्य में स्थित है और कनाडा की ओर अल्बर्टा \\nऔर ब्रिटिश कोलम्बिया प्रांतों से सटा हुआ है।\\nयह उद्यान दस लाख एकड़ (4,000 किमी2) से अधिक क्षेत्र में फैला हुआ है और \\nइसमें दो पर्वत श्रृंखलाएँ (रॉकी पर्वत की उप-श्रेणियाँ), 130 से अधिक नामित झीलें, 1,000 से अधिक विभिन्न पौधों की प्रजातियाँ और वन्यजीवों की सैकड़ों प्रजातियाँ शामिल हैं। \\nइस विशाल प्राचीन पारिस्थितिकी तंत्र को जो 16,000 वर्ग मील (41,000 किमी2) में शामिल संरक्षित भूमि का भाग है, \\n\"क्राउन ऑफ़ द कॉन्टिनेंट इकोसिस्टम\" के रूप में संदर्भित किया गया है।[1]\\n'"
      ]
     },
     "execution_count": 23,
     "metadata": {},
     "output_type": "execute_result"
    }
   ],
   "source": [
    "sents"
   ]
  },
  {
   "cell_type": "code",
   "execution_count": null,
   "metadata": {},
   "outputs": [],
   "source": []
  }
 ],
 "metadata": {
  "accelerator": "GPU",
  "colab": {
   "authorship_tag": "ABX9TyNOetcwNE5uuN5A2uBiXcIO",
   "gpuType": "T4",
   "provenance": []
  },
  "kernelspec": {
   "display_name": "DLNov2024",
   "language": "python",
   "name": "python3"
  },
  "language_info": {
   "codemirror_mode": {
    "name": "ipython",
    "version": 3
   },
   "file_extension": ".py",
   "mimetype": "text/x-python",
   "name": "python",
   "nbconvert_exporter": "python",
   "pygments_lexer": "ipython3",
   "version": "3.12.4"
  }
 },
 "nbformat": 4,
 "nbformat_minor": 4
}
