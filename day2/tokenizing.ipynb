{
 "cells": [
  {
   "cell_type": "code",
   "execution_count": null,
   "metadata": {},
   "outputs": [],
   "source": [
    "import nltk\n",
    "from nltk import word_tokenize # word tokenization"
   ]
  },
  {
   "cell_type": "code",
   "execution_count": 2,
   "metadata": {},
   "outputs": [
    {
     "name": "stderr",
     "output_type": "stream",
     "text": [
      "[nltk_data] Downloading package punkt to\n",
      "[nltk_data]     C:\\Users\\dai\\AppData\\Roaming\\nltk_data...\n",
      "[nltk_data]   Package punkt is already up-to-date!\n",
      "[nltk_data] Downloading package punkt_tab to\n",
      "[nltk_data]     C:\\Users\\dai\\AppData\\Roaming\\nltk_data...\n",
      "[nltk_data]   Package punkt_tab is already up-to-date!\n",
      "[nltk_data] Downloading package stopwords to\n",
      "[nltk_data]     C:\\Users\\dai\\AppData\\Roaming\\nltk_data...\n",
      "[nltk_data]   Package stopwords is already up-to-date!\n",
      "[nltk_data] Downloading package wordnet to\n",
      "[nltk_data]     C:\\Users\\dai\\AppData\\Roaming\\nltk_data...\n",
      "[nltk_data]   Package wordnet is already up-to-date!\n",
      "[nltk_data] Downloading package omw-1.4 to\n",
      "[nltk_data]     C:\\Users\\dai\\AppData\\Roaming\\nltk_data...\n",
      "[nltk_data]   Package omw-1.4 is already up-to-date!\n",
      "[nltk_data] Downloading package averaged_perceptron_tagger to\n",
      "[nltk_data]     C:\\Users\\dai\\AppData\\Roaming\\nltk_data...\n",
      "[nltk_data]   Unzipping taggers\\averaged_perceptron_tagger.zip.\n",
      "[nltk_data] Downloading package indian to\n",
      "[nltk_data]     C:\\Users\\dai\\AppData\\Roaming\\nltk_data...\n",
      "[nltk_data]   Package indian is already up-to-date!\n",
      "[nltk_data] Downloading package maxent_ne_chunker to\n",
      "[nltk_data]     C:\\Users\\dai\\AppData\\Roaming\\nltk_data...\n",
      "[nltk_data]   Package maxent_ne_chunker is already up-to-date!\n"
     ]
    },
    {
     "data": {
      "text/plain": [
       "True"
      ]
     },
     "execution_count": 2,
     "metadata": {},
     "output_type": "execute_result"
    }
   ],
   "source": [
    "nltk.download('punkt') #tokenization\n",
    "nltk.download('punkt_tab')\n",
    "nltk.download('stopwords') #collection of stopwords\n",
    "nltk.download('wordnet') #WORDNET -> DATABASE OF ENGLISH WORDS\n",
    "nltk.download('omw-1.4') #open multilinguial wordnet\n",
    "nltk.download('averaged_perceptron_tagger') # POS tagging\n",
    "nltk.download('indian') # INDIAN language POS tagging\n",
    "nltk.download('maxent_ne_chunker') # NER tagging"
   ]
  },
  {
   "cell_type": "code",
   "execution_count": 15,
   "metadata": {},
   "outputs": [],
   "source": [
    "sent = 'अप्रसार समीक्षा (द नॉन प्रोलिफरेशन रिव्यू) में छपे एक प्रतिवेदन के अनुसार, १९९५ की सर्दियों में, सूर्या भारत का विकसित किया जा रहा प्रथम अंतरमहाद्वीपीय प्रक्षेपण प्रक्षेपास्त्र का कूटनाम है. माना जाता है की रक्षा अनुसंधान एवं विकास संगठन (डी.आर.डी.ओ) ने १९९४ में इस परियोजना को आरंभ कर दिया है. इस प्रतिवेदन की २००९ तक किसी अन्य स्रोत से पुष्टि नहीं की गई है. भारत सरकार के अधिकारियों ने बार-बार इस परियोजना के अस्तित्व का खण्डन किया है।प्रतिवेदन के अनुसार, सूर्या एक अंतरमहाद्वीपीय-दूरी का, सतह पर आधारित, ठोस और तरल प्रणोदक (प्रोपेलेंट) प्रक्षेपास्त्र है. प्रतिवेदन में आगे कहा गया है कि सूर्या भारत की सबसे महत्वाकांक्षी एकीकृत नियंत्रित प्रक्षेपास्त्र विकास परियोजना है. सूर्या की मारक क्षमता ८,००० से १२,००० किलोमीटर तक अनुमानित है.'"
   ]
  },
  {
   "cell_type": "code",
   "execution_count": 16,
   "metadata": {},
   "outputs": [
    {
     "data": {
      "text/plain": [
       "['अप्रसार',\n",
       " 'समीक्षा',\n",
       " '(',\n",
       " 'द',\n",
       " 'नॉन',\n",
       " 'प्रोलिफरेशन',\n",
       " 'रिव्यू',\n",
       " ')',\n",
       " 'में',\n",
       " 'छपे',\n",
       " 'एक',\n",
       " 'प्रतिवेदन',\n",
       " 'के',\n",
       " 'अनुसार',\n",
       " ',',\n",
       " '१९९५',\n",
       " 'की',\n",
       " 'सर्दियों',\n",
       " 'में',\n",
       " ',',\n",
       " 'सूर्या',\n",
       " 'भारत',\n",
       " 'का',\n",
       " 'विकसित',\n",
       " 'किया',\n",
       " 'जा',\n",
       " 'रहा',\n",
       " 'प्रथम',\n",
       " 'अंतरमहाद्वीपीय',\n",
       " 'प्रक्षेपण',\n",
       " 'प्रक्षेपास्त्र',\n",
       " 'का',\n",
       " 'कूटनाम',\n",
       " 'है',\n",
       " '.',\n",
       " 'माना',\n",
       " 'जाता',\n",
       " 'है',\n",
       " 'की',\n",
       " 'रक्षा',\n",
       " 'अनुसंधान',\n",
       " 'एवं',\n",
       " 'विकास',\n",
       " 'संगठन',\n",
       " '(',\n",
       " 'डी.आर.डी.ओ',\n",
       " ')',\n",
       " 'ने',\n",
       " '१९९४',\n",
       " 'में',\n",
       " 'इस',\n",
       " 'परियोजना',\n",
       " 'को',\n",
       " 'आरंभ',\n",
       " 'कर',\n",
       " 'दिया',\n",
       " 'है',\n",
       " '.',\n",
       " 'इस',\n",
       " 'प्रतिवेदन',\n",
       " 'की',\n",
       " '२००९',\n",
       " 'तक',\n",
       " 'किसी',\n",
       " 'अन्य',\n",
       " 'स्रोत',\n",
       " 'से',\n",
       " 'पुष्टि',\n",
       " 'नहीं',\n",
       " 'की',\n",
       " 'गई',\n",
       " 'है',\n",
       " '.',\n",
       " 'भारत',\n",
       " 'सरकार',\n",
       " 'के',\n",
       " 'अधिकारियों',\n",
       " 'ने',\n",
       " 'बार-बार',\n",
       " 'इस',\n",
       " 'परियोजना',\n",
       " 'के',\n",
       " 'अस्तित्व',\n",
       " 'का',\n",
       " 'खण्डन',\n",
       " 'किया',\n",
       " 'है।प्रतिवेदन',\n",
       " 'के',\n",
       " 'अनुसार',\n",
       " ',',\n",
       " 'सूर्या',\n",
       " 'एक',\n",
       " 'अंतरमहाद्वीपीय-दूरी',\n",
       " 'का',\n",
       " ',',\n",
       " 'सतह',\n",
       " 'पर',\n",
       " 'आधारित',\n",
       " ',',\n",
       " 'ठोस',\n",
       " 'और',\n",
       " 'तरल',\n",
       " 'प्रणोदक',\n",
       " '(',\n",
       " 'प्रोपेलेंट',\n",
       " ')',\n",
       " 'प्रक्षेपास्त्र',\n",
       " 'है',\n",
       " '.',\n",
       " 'प्रतिवेदन',\n",
       " 'में',\n",
       " 'आगे',\n",
       " 'कहा',\n",
       " 'गया',\n",
       " 'है',\n",
       " 'कि',\n",
       " 'सूर्या',\n",
       " 'भारत',\n",
       " 'की',\n",
       " 'सबसे',\n",
       " 'महत्वाकांक्षी',\n",
       " 'एकीकृत',\n",
       " 'नियंत्रित',\n",
       " 'प्रक्षेपास्त्र',\n",
       " 'विकास',\n",
       " 'परियोजना',\n",
       " 'है',\n",
       " '.',\n",
       " 'सूर्या',\n",
       " 'की',\n",
       " 'मारक',\n",
       " 'क्षमता',\n",
       " '८,०००',\n",
       " 'से',\n",
       " '१२,०००',\n",
       " 'किलोमीटर',\n",
       " 'तक',\n",
       " 'अनुमानित',\n",
       " 'है',\n",
       " '.']"
      ]
     },
     "execution_count": 16,
     "metadata": {},
     "output_type": "execute_result"
    }
   ],
   "source": [
    "tokens = word_tokenize(sent)\n",
    "tokens"
   ]
  },
  {
   "cell_type": "code",
   "execution_count": 17,
   "metadata": {},
   "outputs": [
    {
     "data": {
      "text/plain": [
       "140"
      ]
     },
     "execution_count": 17,
     "metadata": {},
     "output_type": "execute_result"
    }
   ],
   "source": [
    "len(tokens)"
   ]
  },
  {
   "cell_type": "code",
   "execution_count": 18,
   "metadata": {},
   "outputs": [],
   "source": [
    "# tokenizing sentences\n",
    "from nltk.tokenize import sent_tokenize"
   ]
  },
  {
   "cell_type": "code",
   "execution_count": 46,
   "metadata": {},
   "outputs": [],
   "source": [
    "text = '''Hello friends!\n",
    "How are you?    Welcome to the world of \n",
    "Python Programming.'''"
   ]
  },
  {
   "cell_type": "code",
   "execution_count": 20,
   "metadata": {},
   "outputs": [
    {
     "data": {
      "text/plain": [
       "['Hello friends!',\n",
       " 'How are you?',\n",
       " 'Welcome to the world of Python Programming.']"
      ]
     },
     "execution_count": 20,
     "metadata": {},
     "output_type": "execute_result"
    }
   ],
   "source": [
    "sent_tokenize(text)"
   ]
  },
  {
   "cell_type": "code",
   "execution_count": null,
   "metadata": {},
   "outputs": [
    {
     "data": {
      "text/plain": [
       "['अप्रसार समीक्षा (द नॉन प्रोलिफरेशन रिव्यू) में छपे एक प्रतिवेदन के अनुसार, १९९५ की सर्दियों में, सूर्या भारत का विकसित किया जा रहा प्रथम अंतरमहाद्वीपीय प्रक्षेपण प्रक्षेपास्त्र का कूटनाम है.',\n",
       " 'माना जाता है की रक्षा अनुसंधान एवं विकास संगठन (डी.आर.डी.ओ) ने १९९४ में इस परियोजना को आरंभ कर दिया है.',\n",
       " 'इस प्रतिवेदन की २००९ तक किसी अन्य स्रोत से पुष्टि नहीं की गई है.',\n",
       " 'भारत सरकार के अधिकारियों ने बार-बार इस परियोजना के अस्तित्व का खण्डन किया है।प्रतिवेदन के अनुसार, सूर्या एक अंतरमहाद्वीपीय-दूरी का, सतह पर आधारित, ठोस और तरल प्रणोदक (प्रोपेलेंट) प्रक्षेपास्त्र है.',\n",
       " 'प्रतिवेदन में आगे कहा गया है कि सूर्या भारत की सबसे महत्वाकांक्षी एकीकृत नियंत्रित प्रक्षेपास्त्र विकास परियोजना है.',\n",
       " 'सूर्या की मारक क्षमता ८,००० से १२,००० किलोमीटर तक अनुमानित है.']"
      ]
     },
     "execution_count": 24,
     "metadata": {},
     "output_type": "execute_result"
    }
   ],
   "source": [
    "sent_tokenize(sent) # the full stop symbol should match english full stop"
   ]
  },
  {
   "cell_type": "code",
   "execution_count": 26,
   "metadata": {},
   "outputs": [],
   "source": [
    "india_wiki = '''India, officially the Republic of India,[j][20] is a country in South Asia. It is the seventh-largest country in the world by area and the most populous country. Bounded by the Indian Ocean on the south, the Arabian Sea on the southwest, and the Bay of Bengal on the southeast, it shares land borders with Pakistan to the west;[k] China, Nepal, and Bhutan to the north; and Bangladesh and Myanmar to the east. In the Indian Ocean, India is in the vicinity of Sri Lanka and the Maldives; its Andaman and Nicobar Islands share a maritime border with Thailand, Myanmar, and Indonesia.\n",
    "\n",
    "Modern humans arrived on the Indian subcontinent from Africa no later than 55,000 years ago.[22][23][24] Their long occupation, initially in varying forms of isolation as hunter-gatherers, has made the region highly diverse, second only to Africa in human genetic diversity.[25] Settled life emerged on the subcontinent in the western margins of the Indus river basin 9,000 years ago, evolving gradually into the Indus Valley Civilisation of the third millennium BCE.[26] By at least 1200 BCE, an archaic form of Sanskrit, an Indo-European language, had diffused into India from the northwest.[27][28] Its evidence today is found in the hymns of the Rigveda. Preserved by an oral tradition that was resolutely vigilant, the Rigveda records the dawning of Hinduism in India.[29] The Dravidian languages of India were supplanted in the northern and western regions.[30] By 400 BCE, stratification and exclusion by caste had emerged within Hinduism,[31] and Buddhism and Jainism had arisen, proclaiming social orders unlinked to heredity.[32] Early political consolidations gave rise to the loose-knit Maurya and Gupta Empires based in the Ganges Basin.[33] Their collective era was suffused with wide-ranging creativity,[34] but also marked by the declining status of women,[35] and the incorporation of untouchability into an organised system of belief.[l][36] The Middle kingdoms exported Sanskrit language, south Indian scripts and religions of Hinduism and Buddhism to the Southeast Asia.[37]'''"
   ]
  },
  {
   "cell_type": "code",
   "execution_count": 27,
   "metadata": {},
   "outputs": [
    {
     "data": {
      "text/plain": [
       "'India, officially the Republic of India,[j][20] is a country in South Asia. It is the seventh-largest country in the world by area and the most populous country. Bounded by the Indian Ocean on the south, the Arabian Sea on the southwest, and the Bay of Bengal on the southeast, it shares land borders with Pakistan to the west;[k] China, Nepal, and Bhutan to the north; and Bangladesh and Myanmar to the east. In the Indian Ocean, India is in the vicinity of Sri Lanka and the Maldives; its Andaman and Nicobar Islands share a maritime border with Thailand, Myanmar, and Indonesia.\\n\\nModern humans arrived on the Indian subcontinent from Africa no later than 55,000 years ago.[22][23][24] Their long occupation, initially in varying forms of isolation as hunter-gatherers, has made the region highly diverse, second only to Africa in human genetic diversity.[25] Settled life emerged on the subcontinent in the western margins of the Indus river basin 9,000 years ago, evolving gradually into the Indus Valley Civilisation of the third millennium BCE.[26] By at least 1200 BCE, an archaic form of Sanskrit, an Indo-European language, had diffused into India from the northwest.[27][28] Its evidence today is found in the hymns of the Rigveda. Preserved by an oral tradition that was resolutely vigilant, the Rigveda records the dawning of Hinduism in India.[29] The Dravidian languages of India were supplanted in the northern and western regions.[30] By 400 BCE, stratification and exclusion by caste had emerged within Hinduism,[31] and Buddhism and Jainism had arisen, proclaiming social orders unlinked to heredity.[32] Early political consolidations gave rise to the loose-knit Maurya and Gupta Empires based in the Ganges Basin.[33] Their collective era was suffused with wide-ranging creativity,[34] but also marked by the declining status of women,[35] and the incorporation of untouchability into an organised system of belief.[l][36] The Middle kingdoms exported Sanskrit language, south Indian scripts and religions of Hinduism and Buddhism to the Southeast Asia.[37]'"
      ]
     },
     "execution_count": 27,
     "metadata": {},
     "output_type": "execute_result"
    }
   ],
   "source": [
    "india_wiki"
   ]
  },
  {
   "cell_type": "code",
   "execution_count": null,
   "metadata": {},
   "outputs": [
    {
     "data": {
      "text/plain": [
       "['India, officially the Republic of India,[j][20] is a country in South Asia.',\n",
       " 'It is the seventh-largest country in the world by area and the most populous country.',\n",
       " 'Bounded by the Indian Ocean on the south, the Arabian Sea on the southwest, and the Bay of Bengal on the southeast, it shares land borders with Pakistan to the west;[k] China, Nepal, and Bhutan to the north; and Bangladesh and Myanmar to the east.',\n",
       " 'In the Indian Ocean, India is in the vicinity of Sri Lanka and the Maldives; its Andaman and Nicobar Islands share a maritime border with Thailand, Myanmar, and Indonesia.',\n",
       " 'Modern humans arrived on the Indian subcontinent from Africa no later than 55,000 years ago.',\n",
       " '[22][23][24] Their long occupation, initially in varying forms of isolation as hunter-gatherers, has made the region highly diverse, second only to Africa in human genetic diversity.',\n",
       " '[25] Settled life emerged on the subcontinent in the western margins of the Indus river basin 9,000 years ago, evolving gradually into the Indus Valley Civilisation of the third millennium BCE.',\n",
       " '[26] By at least 1200 BCE, an archaic form of Sanskrit, an Indo-European language, had diffused into India from the northwest.',\n",
       " '[27][28] Its evidence today is found in the hymns of the Rigveda.',\n",
       " 'Preserved by an oral tradition that was resolutely vigilant, the Rigveda records the dawning of Hinduism in India.',\n",
       " '[29] The Dravidian languages of India were supplanted in the northern and western regions.',\n",
       " '[30] By 400 BCE, stratification and exclusion by caste had emerged within Hinduism,[31] and Buddhism and Jainism had arisen, proclaiming social orders unlinked to heredity.',\n",
       " '[32] Early political consolidations gave rise to the loose-knit Maurya and Gupta Empires based in the Ganges Basin.',\n",
       " '[33] Their collective era was suffused with wide-ranging creativity,[34] but also marked by the declining status of women,[35] and the incorporation of untouchability into an organised system of belief.',\n",
       " '[l][36] The Middle kingdoms exported Sanskrit language, south Indian scripts and religions of Hinduism and Buddhism to the Southeast Asia.',\n",
       " '[37]']"
      ]
     },
     "execution_count": 33,
     "metadata": {},
     "output_type": "execute_result"
    }
   ],
   "source": [
    "# printing a sentence that has the maximum number of 'the'\n",
    "indi_sent = sent_tokenize(india_wiki) # sentence tokenize here\n",
    "indi_sent"
   ]
  },
  {
   "cell_type": "code",
   "execution_count": 40,
   "metadata": {},
   "outputs": [
    {
     "name": "stdout",
     "output_type": "stream",
     "text": [
      "The count of 'the': 9\n",
      "Bounded by the Indian Ocean on the south, the Arabian Sea on the southwest, and the Bay of Bengal on the southeast, it shares land borders with Pakistan to the west;[k] China, Nepal, and Bhutan to the north; and Bangladesh and Myanmar to the east.\n"
     ]
    }
   ],
   "source": [
    "# sent tokenize and word tokenize inside it\n",
    "max = 0\n",
    "for sents in indi_sent:\n",
    "    words = word_tokenize(sents.lower()) # word tokenize here\n",
    "    count_the = words.count('the')\n",
    "    if(count_the > max):\n",
    "        max = count_the\n",
    "        max_sent = sents\n",
    "        \n",
    "print(f\"The count of 'the': {max}\")\n",
    "print(max_sent)"
   ]
  },
  {
   "cell_type": "markdown",
   "metadata": {},
   "source": [
    "### Whitespace tokenizer(splitter)\n"
   ]
  },
  {
   "cell_type": "code",
   "execution_count": 47,
   "metadata": {},
   "outputs": [
    {
     "name": "stdout",
     "output_type": "stream",
     "text": [
      "['Hello', 'friends!', 'How', 'are', 'you?', 'Welcome', 'to', 'the', 'world', 'of', 'Python', 'Programming.']\n"
     ]
    },
    {
     "data": {
      "text/plain": [
       "12"
      ]
     },
     "execution_count": 47,
     "metadata": {},
     "output_type": "execute_result"
    }
   ],
   "source": [
    "from nltk.tokenize import WhitespaceTokenizer\n",
    "# a whitespace consists of a newline, tab and spaces\n",
    "tk = WhitespaceTokenizer()\n",
    "wht = tk.tokenize(text)\n",
    "print(wht)\n",
    "len(wht)"
   ]
  },
  {
   "cell_type": "code",
   "execution_count": 48,
   "metadata": {},
   "outputs": [
    {
     "name": "stdout",
     "output_type": "stream",
     "text": [
      "['Hello', 'friends!\\nHow', 'are', 'you?', '', '', '', 'Welcome', 'to', 'the', 'world', 'of', '\\nPython', 'Programming.']\n"
     ]
    },
    {
     "data": {
      "text/plain": [
       "14"
      ]
     },
     "execution_count": 48,
     "metadata": {},
     "output_type": "execute_result"
    }
   ],
   "source": [
    "# space tokenizer\n",
    "# newlines and tabs are not recognized here\n",
    "from nltk.tokenize import SpaceTokenizer\n",
    "st = SpaceTokenizer() \n",
    "spt = st.tokenize(text)\n",
    "print(spt)\n",
    "len(spt)"
   ]
  },
  {
   "cell_type": "code",
   "execution_count": 49,
   "metadata": {},
   "outputs": [
    {
     "name": "stdout",
     "output_type": "stream",
     "text": [
      "['Hello friends!', 'How are you?    Welcome to the world of ', 'Python Programming.']\n"
     ]
    },
    {
     "data": {
      "text/plain": [
       "3"
      ]
     },
     "execution_count": 49,
     "metadata": {},
     "output_type": "execute_result"
    }
   ],
   "source": [
    "# Line tokenizer\n",
    "from nltk.tokenize import LineTokenizer\n",
    "lt = LineTokenizer()\n",
    "ltw = lt.tokenize(text) \n",
    "print(ltw)\n",
    "len(ltw)"
   ]
  },
  {
   "cell_type": "code",
   "execution_count": 58,
   "metadata": {},
   "outputs": [
    {
     "name": "stdout",
     "output_type": "stream",
     "text": [
      "['Hello friends!\\nHow are you?', 'Welcome to the world of \\nPython', 'Programming.']\n"
     ]
    },
    {
     "data": {
      "text/plain": [
       "3"
      ]
     },
     "execution_count": 58,
     "metadata": {},
     "output_type": "execute_result"
    }
   ],
   "source": [
    "# Tab tokenizer\n",
    "from nltk.tokenize import TabTokenizer\n",
    "tb = TabTokenizer()\n",
    "text1 = '''Hello friends!\n",
    "How are you?\\tWelcome to the world of \n",
    "Python\\tProgramming.'''\n",
    "text_tb = tb.tokenize(text1)\n",
    "print(text_tb)\n",
    "len(text_tb)"
   ]
  },
  {
   "cell_type": "code",
   "execution_count": null,
   "metadata": {},
   "outputs": [
    {
     "name": "stdout",
     "output_type": "stream",
     "text": [
      "['Oil', 'up', 'buddy', ':)', \"I'll\", 'touch', 'you', 'tonight', ':D', \"I'll\", 'be', 'gooning', 'to', 'you', 'forever', '<3']\n"
     ]
    },
    {
     "data": {
      "text/plain": [
       "16"
      ]
     },
     "execution_count": 66,
     "metadata": {},
     "output_type": "execute_result"
    }
   ],
   "source": [
    "# Tweet tokenizer\n",
    "from nltk.tokenize import TweetTokenizer\n",
    "twt = TweetTokenizer()\n",
    "data = \"Oil up buddy:) I'll touch you tonight:D I'll be gooning to you forever<3\"\n",
    "twt_data = twt.tokenize(data)\n",
    "print(twt_data)\n",
    "len(twt_data)"
   ]
  },
  {
   "cell_type": "code",
   "execution_count": 73,
   "metadata": {},
   "outputs": [
    {
     "name": "stdout",
     "output_type": "stream",
     "text": [
      "['Oil', 'up', 'buddy', ':)', '😎', \"I'll\", 'touch', 'you', 'tonight', ':D', '😊', '.', \"I'll\", 'be', 'gooning', '🧜', '🎶', '🚁', 'to', 'you', 'forever', '<3', '!', '!', '!', '🗿']\n"
     ]
    },
    {
     "data": {
      "text/plain": [
       "26"
      ]
     },
     "execution_count": 73,
     "metadata": {},
     "output_type": "execute_result"
    }
   ],
   "source": [
    "# tweet tokenizer with emojis\n",
    "data_emo = \"Oil up buddy:)😎 I'll touch you tonight:D😊. I'll be gooning🧜🎶🚁 to you forever<3!!!!🗿\"\n",
    "twt_emo = twt.tokenize(data_emo)\n",
    "print(twt_emo)\n",
    "len(twt_emo)\n"
   ]
  },
  {
   "cell_type": "code",
   "execution_count": null,
   "metadata": {},
   "outputs": [
    {
     "name": "stdout",
     "output_type": "stream",
     "text": [
      "['Van-Rossum', 'is', 'in', 'Pune', 'today', '.', 'We', 'welcomed', 'Van-Rossum', 'here', '.']\n"
     ]
    },
    {
     "data": {
      "text/plain": [
       "11"
      ]
     },
     "execution_count": 78,
     "metadata": {},
     "output_type": "execute_result"
    }
   ],
   "source": [
    "# MWE tokenizer(multiword)\n",
    "mwe_text = \"Van Rossum is in Pune today. We welcomed Van Rossum here.\"\n",
    "from nltk.tokenize import MWETokenizer\n",
    "mwe = MWETokenizer(separator='-') # changing the separator from the default '_'\n",
    "mwe.add_mwe(('Van','Rossum')) # adding this tuple of words to group together\n",
    "mwe_final = mwe.tokenize(word_tokenize(mwe_text)) # words are first tokenized and then the given tuple of words are grouped together, separated by the separator\n",
    "print(mwe_final)\n",
    "len(mwe_final)\n"
   ]
  },
  {
   "cell_type": "code",
   "execution_count": 81,
   "metadata": {},
   "outputs": [
    {
     "name": "stdout",
     "output_type": "stream",
     "text": [
      "Tokens: \n",
      "['This', 'is', 'some', 'text', 'with', 'punctuation', '>', \"Let's\", 'tokenize', 'this', 'shi', 'OK', 'blud', '']\n"
     ]
    }
   ],
   "source": [
    "# custom tokenizer\n",
    "import re\n",
    "def custom_tokenizer(text):\n",
    "    return re.split(r\"[.,;?\\s]+\",text)\n",
    "\n",
    "text = \"This is some text with punctuation > Let's tokenize this shi. OK blud?\"\n",
    "tokens = custom_tokenizer(text)\n",
    "print('Tokens: ')\n",
    "# for token in tokens:\n",
    "print(tokens)"
   ]
  },
  {
   "cell_type": "code",
   "execution_count": null,
   "metadata": {},
   "outputs": [],
   "source": []
  }
 ],
 "metadata": {
  "kernelspec": {
   "display_name": "DLNov2024",
   "language": "python",
   "name": "python3"
  },
  "language_info": {
   "codemirror_mode": {
    "name": "ipython",
    "version": 3
   },
   "file_extension": ".py",
   "mimetype": "text/x-python",
   "name": "python",
   "nbconvert_exporter": "python",
   "pygments_lexer": "ipython3",
   "version": "3.12.4"
  }
 },
 "nbformat": 4,
 "nbformat_minor": 2
}
