{
 "cells": [
  {
   "cell_type": "code",
   "execution_count": 2,
   "metadata": {},
   "outputs": [
    {
     "name": "stdout",
     "output_type": "stream",
     "text": [
      "Collecting morfessor\n",
      "  Using cached Morfessor-2.0.6-py3-none-any.whl.metadata (628 bytes)\n",
      "Downloading Morfessor-2.0.6-py3-none-any.whl (35 kB)\n",
      "Installing collected packages: morfessor\n",
      "Successfully installed morfessor-2.0.6\n"
     ]
    }
   ],
   "source": [
    "!pip install -U morfessor"
   ]
  },
  {
   "cell_type": "code",
   "execution_count": 1,
   "metadata": {},
   "outputs": [],
   "source": [
    "import os\n",
    "os.environ[\"PYTHONUTF8\"] = \"1\"\n"
   ]
  },
  {
   "cell_type": "code",
   "execution_count": 2,
   "metadata": {},
   "outputs": [
    {
     "name": "stdout",
     "output_type": "stream",
     "text": [
      "Requirement already satisfied: pip in c:\\users\\dai\\dlnov2024\\lib\\site-packages (24.3.1)\n",
      "Requirement already satisfied: setuptools in c:\\users\\dai\\dlnov2024\\lib\\site-packages (75.5.0)\n",
      "Collecting setuptools\n",
      "  Downloading setuptools-75.6.0-py3-none-any.whl.metadata (6.7 kB)\n",
      "Requirement already satisfied: wheel in c:\\users\\dai\\dlnov2024\\lib\\site-packages (0.45.0)\n",
      "Collecting wheel\n",
      "  Downloading wheel-0.45.1-py3-none-any.whl.metadata (2.3 kB)\n",
      "Downloading setuptools-75.6.0-py3-none-any.whl (1.2 MB)\n",
      "   ---------------------------------------- 0.0/1.2 MB ? eta -:--:--\n",
      "   ---------------------------------------- 1.2/1.2 MB 31.0 MB/s eta 0:00:00\n",
      "Downloading wheel-0.45.1-py3-none-any.whl (72 kB)\n",
      "Installing collected packages: wheel, setuptools\n",
      "  Attempting uninstall: wheel\n",
      "    Found existing installation: wheel 0.45.0\n",
      "    Uninstalling wheel-0.45.0:\n",
      "      Successfully uninstalled wheel-0.45.0\n",
      "  Attempting uninstall: setuptools\n",
      "    Found existing installation: setuptools 75.5.0\n",
      "    Uninstalling setuptools-75.5.0:\n",
      "      Successfully uninstalled setuptools-75.5.0\n",
      "Successfully installed setuptools-75.6.0 wheel-0.45.1\n"
     ]
    }
   ],
   "source": [
    "!pip install --upgrade pip setuptools wheel\n"
   ]
  },
  {
   "cell_type": "code",
   "execution_count": 4,
   "metadata": {},
   "outputs": [
    {
     "name": "stdout",
     "output_type": "stream",
     "text": [
      "Collecting polyglot\n",
      "  Using cached polyglot-16.7.4.tar.gz (126 kB)\n",
      "  Preparing metadata (setup.py): started\n",
      "  Preparing metadata (setup.py): finished with status 'done'\n",
      "Building wheels for collected packages: polyglot\n",
      "  Building wheel for polyglot (setup.py): started\n",
      "  Building wheel for polyglot (setup.py): finished with status 'done'\n",
      "  Created wheel for polyglot: filename=polyglot-16.7.4-py2.py3-none-any.whl size=52601 sha256=7f70e9a757d68b41c87220498aa44d0456ab4ac31cd0cf2182f4d606f8f59011\n",
      "  Stored in directory: c:\\users\\dai\\appdata\\local\\pip\\cache\\wheels\\c7\\5e\\28\\47349211ec1f91379f41ed10bc2520f7071ecfb6cbe182f6fe\n",
      "Successfully built polyglot\n",
      "Installing collected packages: polyglot\n",
      "Successfully installed polyglot-16.7.4\n"
     ]
    },
    {
     "name": "stderr",
     "output_type": "stream",
     "text": [
      "DEPRECATION: --build-option and --global-option are deprecated. pip 25.0 will enforce this behaviour change. A possible replacement is to use --config-settings. Discussion can be found at https://github.com/pypa/pip/issues/11859\n",
      "WARNING: Implying --no-binary=:all: due to the presence of --build-option / --global-option.\n"
     ]
    }
   ],
   "source": [
    "!pip install polyglot --global-option=build_ext --global-option=\"-DUTF8\""
   ]
  },
  {
   "cell_type": "code",
   "execution_count": 2,
   "metadata": {},
   "outputs": [
    {
     "name": "stdout",
     "output_type": "stream",
     "text": [
      "Collecting pycld2\n",
      "  Using cached pycld2-0.41.tar.gz (41.4 MB)\n",
      "  Preparing metadata (setup.py): started\n",
      "  Preparing metadata (setup.py): finished with status 'done'\n",
      "Building wheels for collected packages: pycld2\n",
      "  Building wheel for pycld2 (setup.py): started\n",
      "  Building wheel for pycld2 (setup.py): finished with status 'error'\n",
      "  Running setup.py clean for pycld2\n",
      "Failed to build pycld2\n"
     ]
    },
    {
     "name": "stderr",
     "output_type": "stream",
     "text": [
      "  error: subprocess-exited-with-error\n",
      "  \n",
      "  × python setup.py bdist_wheel did not run successfully.\n",
      "  │ exit code: 1\n",
      "  ╰─> [43 lines of output]\n",
      "      running bdist_wheel\n",
      "      The [wheel] section is deprecated. Use [bdist_wheel] instead.\n",
      "      C:\\Users\\dai\\DLNov2024\\Lib\\site-packages\\setuptools\\_distutils\\cmd.py:111: SetuptoolsDeprecationWarning: bdist_wheel.universal is deprecated\n",
      "      !!\n",
      "      \n",
      "              ********************************************************************************\n",
      "              With Python 2.7 end-of-life, support for building universal wheels\n",
      "              (i.e., wheels that support both Python 2 and Python 3)\n",
      "              is being obviated.\n",
      "              Please discontinue using this option, or if you still need it,\n",
      "              file an issue with pypa/setuptools describing your use case.\n",
      "      \n",
      "              By 2025-Aug-30, you need to update your project and remove deprecated calls\n",
      "              or your builds will no longer be supported.\n",
      "              ********************************************************************************\n",
      "      \n",
      "      !!\n",
      "        self.finalize_options()\n",
      "      running build\n",
      "      running build_py\n",
      "      creating build\\lib.win-amd64-cpython-312\\pycld2\n",
      "      copying pycld2\\__init__.py -> build\\lib.win-amd64-cpython-312\\pycld2\n",
      "      running build_ext\n",
      "      building 'pycld2._pycld2' extension\n",
      "      creating build\\temp.win-amd64-cpython-312\\Release\\Users\\dai\\AppData\\Local\\Temp\\pip-install-8dbuwo36\\pycld2_04cc04667619472b93b15c91d4b4b93f\\bindings\n",
      "      creating build\\temp.win-amd64-cpython-312\\Release\\Users\\dai\\AppData\\Local\\Temp\\pip-install-8dbuwo36\\pycld2_04cc04667619472b93b15c91d4b4b93f\\cld2\\internal\n",
      "      \"C:\\Program Files (x86)\\Microsoft Visual Studio\\2022\\BuildTools\\VC\\Tools\\MSVC\\14.42.34433\\bin\\HostX86\\x64\\cl.exe\" /c /nologo /O2 /W3 /GL /DNDEBUG /MD -IC:\\Users\\dai\\AppData\\Local\\Temp\\pip-install-8dbuwo36\\pycld2_04cc04667619472b93b15c91d4b4b93f\\cld2\\internal -IC:\\Users\\dai\\AppData\\Local\\Temp\\pip-install-8dbuwo36\\pycld2_04cc04667619472b93b15c91d4b4b93f\\cld2\\public -IC:\\Users\\dai\\DLNov2024\\include -IC:\\ProgramData\\anaconda4\\include -IC:\\ProgramData\\anaconda4\\Include \"-IC:\\Program Files (x86)\\Microsoft Visual Studio\\2022\\BuildTools\\VC\\Tools\\MSVC\\14.42.34433\\include\" \"-IC:\\Program Files (x86)\\Microsoft Visual Studio\\2022\\BuildTools\\VC\\Auxiliary\\VS\\include\" \"-IC:\\Program Files (x86)\\Windows Kits\\10\\include\\10.0.22621.0\\ucrt\" \"-IC:\\Program Files (x86)\\Windows Kits\\10\\\\include\\10.0.22621.0\\\\um\" \"-IC:\\Program Files (x86)\\Windows Kits\\10\\\\include\\10.0.22621.0\\\\shared\" \"-IC:\\Program Files (x86)\\Windows Kits\\10\\\\include\\10.0.22621.0\\\\winrt\" \"-IC:\\Program Files (x86)\\Windows Kits\\10\\\\include\\10.0.22621.0\\\\cppwinrt\" /EHsc /TpC:\\Users\\dai\\AppData\\Local\\Temp\\pip-install-8dbuwo36\\pycld2_04cc04667619472b93b15c91d4b4b93f\\bindings\\encodings.cc /Fobuild\\temp.win-amd64-cpython-312\\Release\\Users\\dai\\AppData\\Local\\Temp\\pip-install-8dbuwo36\\pycld2_04cc04667619472b93b15c91d4b4b93f\\bindings\\encodings.obj -w -O2 -m64 -fPIC\n",
      "      cl : Command line warning D9025 : overriding '/W3' with '/w'\n",
      "      cl : Command line warning D9002 : ignoring unknown option '-m64'\n",
      "      cl : Command line warning D9002 : ignoring unknown option '-fPIC'\n",
      "      encodings.cc\n",
      "      \"C:\\Program Files (x86)\\Microsoft Visual Studio\\2022\\BuildTools\\VC\\Tools\\MSVC\\14.42.34433\\bin\\HostX86\\x64\\cl.exe\" /c /nologo /O2 /W3 /GL /DNDEBUG /MD -IC:\\Users\\dai\\AppData\\Local\\Temp\\pip-install-8dbuwo36\\pycld2_04cc04667619472b93b15c91d4b4b93f\\cld2\\internal -IC:\\Users\\dai\\AppData\\Local\\Temp\\pip-install-8dbuwo36\\pycld2_04cc04667619472b93b15c91d4b4b93f\\cld2\\public -IC:\\Users\\dai\\DLNov2024\\include -IC:\\ProgramData\\anaconda4\\include -IC:\\ProgramData\\anaconda4\\Include \"-IC:\\Program Files (x86)\\Microsoft Visual Studio\\2022\\BuildTools\\VC\\Tools\\MSVC\\14.42.34433\\include\" \"-IC:\\Program Files (x86)\\Microsoft Visual Studio\\2022\\BuildTools\\VC\\Auxiliary\\VS\\include\" \"-IC:\\Program Files (x86)\\Windows Kits\\10\\include\\10.0.22621.0\\ucrt\" \"-IC:\\Program Files (x86)\\Windows Kits\\10\\\\include\\10.0.22621.0\\\\um\" \"-IC:\\Program Files (x86)\\Windows Kits\\10\\\\include\\10.0.22621.0\\\\shared\" \"-IC:\\Program Files (x86)\\Windows Kits\\10\\\\include\\10.0.22621.0\\\\winrt\" \"-IC:\\Program Files (x86)\\Windows Kits\\10\\\\include\\10.0.22621.0\\\\cppwinrt\" /EHsc /TpC:\\Users\\dai\\AppData\\Local\\Temp\\pip-install-8dbuwo36\\pycld2_04cc04667619472b93b15c91d4b4b93f\\bindings\\pycldmodule.cc /Fobuild\\temp.win-amd64-cpython-312\\Release\\Users\\dai\\AppData\\Local\\Temp\\pip-install-8dbuwo36\\pycld2_04cc04667619472b93b15c91d4b4b93f\\bindings\\pycldmodule.obj -w -O2 -m64 -fPIC\n",
      "      cl : Command line warning D9025 : overriding '/W3' with '/w'\n",
      "      cl : Command line warning D9002 : ignoring unknown option '-m64'\n",
      "      cl : Command line warning D9002 : ignoring unknown option '-fPIC'\n",
      "      pycldmodule.cc\n",
      "      \"C:\\Program Files (x86)\\Microsoft Visual Studio\\2022\\BuildTools\\VC\\Tools\\MSVC\\14.42.34433\\bin\\HostX86\\x64\\cl.exe\" /c /nologo /O2 /W3 /GL /DNDEBUG /MD -IC:\\Users\\dai\\AppData\\Local\\Temp\\pip-install-8dbuwo36\\pycld2_04cc04667619472b93b15c91d4b4b93f\\cld2\\internal -IC:\\Users\\dai\\AppData\\Local\\Temp\\pip-install-8dbuwo36\\pycld2_04cc04667619472b93b15c91d4b4b93f\\cld2\\public -IC:\\Users\\dai\\DLNov2024\\include -IC:\\ProgramData\\anaconda4\\include -IC:\\ProgramData\\anaconda4\\Include \"-IC:\\Program Files (x86)\\Microsoft Visual Studio\\2022\\BuildTools\\VC\\Tools\\MSVC\\14.42.34433\\include\" \"-IC:\\Program Files (x86)\\Microsoft Visual Studio\\2022\\BuildTools\\VC\\Auxiliary\\VS\\include\" \"-IC:\\Program Files (x86)\\Windows Kits\\10\\include\\10.0.22621.0\\ucrt\" \"-IC:\\Program Files (x86)\\Windows Kits\\10\\\\include\\10.0.22621.0\\\\um\" \"-IC:\\Program Files (x86)\\Windows Kits\\10\\\\include\\10.0.22621.0\\\\shared\" \"-IC:\\Program Files (x86)\\Windows Kits\\10\\\\include\\10.0.22621.0\\\\winrt\" \"-IC:\\Program Files (x86)\\Windows Kits\\10\\\\include\\10.0.22621.0\\\\cppwinrt\" /EHsc /TpC:\\Users\\dai\\AppData\\Local\\Temp\\pip-install-8dbuwo36\\pycld2_04cc04667619472b93b15c91d4b4b93f\\cld2\\internal/cld2_generated_cjk_compatible.cc /Fobuild\\temp.win-amd64-cpython-312\\Release\\Users\\dai\\AppData\\Local\\Temp\\pip-install-8dbuwo36\\pycld2_04cc04667619472b93b15c91d4b4b93f\\cld2\\internal/cld2_generated_cjk_compatible.obj -w -O2 -m64 -fPIC\n",
      "      cl : Command line warning D9025 : overriding '/W3' with '/w'\n",
      "      cl : Command line warning D9002 : ignoring unknown option '-m64'\n",
      "      cl : Command line warning D9002 : ignoring unknown option '-fPIC'\n",
      "      cld2_generated_cjk_compatible.cc\n",
      "      C:\\Users\\dai\\AppData\\Local\\Temp\\pip-install-8dbuwo36\\pycld2_04cc04667619472b93b15c91d4b4b93f\\cld2\\internal\\cld2_generated_cjk_compatible.cc : fatal error C1083: Cannot open compiler generated file: '': Invalid argument\n",
      "      error: command 'C:\\\\Program Files (x86)\\\\Microsoft Visual Studio\\\\2022\\\\BuildTools\\\\VC\\\\Tools\\\\MSVC\\\\14.42.34433\\\\bin\\\\HostX86\\\\x64\\\\cl.exe' failed with exit code 1\n",
      "      [end of output]\n",
      "  \n",
      "  note: This error originates from a subprocess, and is likely not a problem with pip.\n",
      "  ERROR: Failed building wheel for pycld2\n",
      "ERROR: ERROR: Failed to build installable wheels for some pyproject.toml based projects (pycld2)\n"
     ]
    }
   ],
   "source": [
    "!pip install pycld2"
   ]
  },
  {
   "cell_type": "code",
   "execution_count": 1,
   "metadata": {},
   "outputs": [
    {
     "ename": "ModuleNotFoundError",
     "evalue": "No module named 'icu'",
     "output_type": "error",
     "traceback": [
      "\u001b[1;31m---------------------------------------------------------------------------\u001b[0m",
      "\u001b[1;31mModuleNotFoundError\u001b[0m                       Traceback (most recent call last)",
      "Cell \u001b[1;32mIn[1], line 1\u001b[0m\n\u001b[1;32m----> 1\u001b[0m \u001b[38;5;28;01mimport\u001b[39;00m \u001b[38;5;21;01micu\u001b[39;00m\n\u001b[0;32m      2\u001b[0m \u001b[38;5;28mprint\u001b[39m(icu\u001b[38;5;241m.\u001b[39mICU_VERSION)\n",
      "\u001b[1;31mModuleNotFoundError\u001b[0m: No module named 'icu'"
     ]
    }
   ],
   "source": [
    "import icu\n",
    "print(icu.ICU_VERSION)"
   ]
  },
  {
   "cell_type": "code",
   "execution_count": 7,
   "metadata": {},
   "outputs": [
    {
     "ename": "ImportError",
     "evalue": "cannot import name 'Locale' from 'icu' (c:\\Users\\dai\\DLNov2024\\Lib\\site-packages\\icu\\__init__.py)",
     "output_type": "error",
     "traceback": [
      "\u001b[1;31m---------------------------------------------------------------------------\u001b[0m",
      "\u001b[1;31mImportError\u001b[0m                               Traceback (most recent call last)",
      "Cell \u001b[1;32mIn[7], line 1\u001b[0m\n\u001b[1;32m----> 1\u001b[0m \u001b[38;5;28;01mfrom\u001b[39;00m \u001b[38;5;21;01mpolyglot\u001b[39;00m\u001b[38;5;21;01m.\u001b[39;00m\u001b[38;5;21;01mdownloader\u001b[39;00m \u001b[38;5;28;01mimport\u001b[39;00m downloader\n\u001b[0;32m      3\u001b[0m \u001b[38;5;66;03m# Download resources for English and Marathi\u001b[39;00m\n\u001b[0;32m      4\u001b[0m downloader\u001b[38;5;241m.\u001b[39mdownload(\u001b[38;5;124m\"\u001b[39m\u001b[38;5;124mmorph2.en\u001b[39m\u001b[38;5;124m\"\u001b[39m)\n",
      "File \u001b[1;32mc:\\Users\\dai\\DLNov2024\\Lib\\site-packages\\polyglot\\downloader.py:91\u001b[0m\n\u001b[0;32m     87\u001b[0m \u001b[38;5;28;01mfrom\u001b[39;00m \u001b[38;5;21;01mjson\u001b[39;00m \u001b[38;5;28;01mimport\u001b[39;00m loads\n\u001b[0;32m     90\u001b[0m \u001b[38;5;28;01mfrom\u001b[39;00m \u001b[38;5;21;01mpolyglot\u001b[39;00m \u001b[38;5;28;01mimport\u001b[39;00m polyglot_path\n\u001b[1;32m---> 91\u001b[0m \u001b[38;5;28;01mfrom\u001b[39;00m \u001b[38;5;21;01mpolyglot\u001b[39;00m\u001b[38;5;21;01m.\u001b[39;00m\u001b[38;5;21;01mdetect\u001b[39;00m\u001b[38;5;21;01m.\u001b[39;00m\u001b[38;5;21;01mlangids\u001b[39;00m \u001b[38;5;28;01mimport\u001b[39;00m isoLangs\n\u001b[0;32m     92\u001b[0m \u001b[38;5;28;01mfrom\u001b[39;00m \u001b[38;5;21;01mpolyglot\u001b[39;00m\u001b[38;5;21;01m.\u001b[39;00m\u001b[38;5;21;01mutils\u001b[39;00m \u001b[38;5;28;01mimport\u001b[39;00m pretty_list\n\u001b[0;32m     93\u001b[0m \u001b[38;5;28;01mfrom\u001b[39;00m \u001b[38;5;21;01micu\u001b[39;00m \u001b[38;5;28;01mimport\u001b[39;00m Locale\n",
      "File \u001b[1;32mc:\\Users\\dai\\DLNov2024\\Lib\\site-packages\\polyglot\\detect\\__init__.py:1\u001b[0m\n\u001b[1;32m----> 1\u001b[0m \u001b[38;5;28;01mfrom\u001b[39;00m \u001b[38;5;21;01m.\u001b[39;00m\u001b[38;5;21;01mbase\u001b[39;00m \u001b[38;5;28;01mimport\u001b[39;00m Detector, Language\n\u001b[0;32m      3\u001b[0m __all__ \u001b[38;5;241m=\u001b[39m [\u001b[38;5;124m'\u001b[39m\u001b[38;5;124mDetector\u001b[39m\u001b[38;5;124m'\u001b[39m, \u001b[38;5;124m'\u001b[39m\u001b[38;5;124mLanguage\u001b[39m\u001b[38;5;124m'\u001b[39m]\n",
      "File \u001b[1;32mc:\\Users\\dai\\DLNov2024\\Lib\\site-packages\\polyglot\\detect\\base.py:11\u001b[0m\n\u001b[0;32m      5\u001b[0m \u001b[38;5;124;03m\"\"\"Detecting languages\"\"\"\u001b[39;00m\n\u001b[0;32m      8\u001b[0m \u001b[38;5;28;01mimport\u001b[39;00m \u001b[38;5;21;01mlogging\u001b[39;00m\n\u001b[1;32m---> 11\u001b[0m \u001b[38;5;28;01mfrom\u001b[39;00m \u001b[38;5;21;01micu\u001b[39;00m \u001b[38;5;28;01mimport\u001b[39;00m Locale\n\u001b[0;32m     12\u001b[0m \u001b[38;5;28;01mimport\u001b[39;00m \u001b[38;5;21;01mpycld2\u001b[39;00m \u001b[38;5;28;01mas\u001b[39;00m \u001b[38;5;21;01mcld2\u001b[39;00m\n\u001b[0;32m     14\u001b[0m logger \u001b[38;5;241m=\u001b[39m logging\u001b[38;5;241m.\u001b[39mgetLogger(\u001b[38;5;18m__name__\u001b[39m)\n",
      "\u001b[1;31mImportError\u001b[0m: cannot import name 'Locale' from 'icu' (c:\\Users\\dai\\DLNov2024\\Lib\\site-packages\\icu\\__init__.py)"
     ]
    }
   ],
   "source": [
    "from polyglot.downloader import downloader\n",
    "\n",
    "# Download resources for English and Marathi\n",
    "downloader.download(\"morph2.en\")\n",
    "downloader.download(\"morph2.mr\")"
   ]
  },
  {
   "cell_type": "code",
   "execution_count": null,
   "metadata": {},
   "outputs": [],
   "source": []
  }
 ],
 "metadata": {
  "kernelspec": {
   "display_name": "DLNov2024",
   "language": "python",
   "name": "python3"
  },
  "language_info": {
   "codemirror_mode": {
    "name": "ipython",
    "version": 3
   },
   "file_extension": ".py",
   "mimetype": "text/x-python",
   "name": "python",
   "nbconvert_exporter": "python",
   "pygments_lexer": "ipython3",
   "version": "3.12.4"
  }
 },
 "nbformat": 4,
 "nbformat_minor": 2
}
